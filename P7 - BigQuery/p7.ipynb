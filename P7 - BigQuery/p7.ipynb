{
 "cells": [
  {
   "cell_type": "code",
   "execution_count": 1,
   "id": "615618e2-2d2a-477f-ad04-771822edba1b",
   "metadata": {
    "tags": []
   },
   "outputs": [],
   "source": [
    "from google.cloud import bigquery\n",
    "bq = bigquery.Client(project=\"cs544-s23-376219\")\n",
    "job_config = bigquery.QueryJobConfig(use_query_cache=False)"
   ]
  },
  {
   "cell_type": "code",
   "execution_count": 2,
   "id": "36138680-0aae-4fd4-83c2-e3e90e1c34e5",
   "metadata": {
    "tags": []
   },
   "outputs": [
    {
     "data": {
      "text/plain": [
       "'55025'"
      ]
     },
     "execution_count": 2,
     "metadata": {},
     "output_type": "execute_result"
    }
   ],
   "source": [
    "#q1\n",
    "query_q1 = \"\"\"\n",
    "SELECT geo_id\n",
    "FROM bigquery-public-data.geo_us_boundaries.counties\n",
    "WHERE county_name = 'Dane' AND state_fips_code = '55'\n",
    "\"\"\"\n",
    "result_q1 = bq.query(query_q1, job_config=job_config)\n",
    "result_q1.to_dataframe().loc[0,\"geo_id\"]"
   ]
  },
  {
   "cell_type": "code",
   "execution_count": 3,
   "id": "5de008ab-3b8d-4ed7-b826-94d9060989d2",
   "metadata": {
    "tags": []
   },
   "outputs": [
    {
     "data": {
      "text/plain": [
       "{'48': 254, '13': 159, '51': 133, '21': 120, '29': 115}"
      ]
     },
     "execution_count": 3,
     "metadata": {},
     "output_type": "execute_result"
    }
   ],
   "source": [
    "#q2\n",
    "query_q2 = \"\"\"\n",
    "SELECT state_fips_code, COUNT(*) as counties_count\n",
    "FROM bigquery-public-data.geo_us_boundaries.counties\n",
    "GROUP BY state_fips_code\n",
    "ORDER BY counties_count DESC\n",
    "LIMIT 5\n",
    "\"\"\"\n",
    "result_q2 = bq.query(query_q2, job_config=job_config)\n",
    "df = result_q2.to_dataframe()\n",
    "keys = list(df.loc[:, \"state_fips_code\"])\n",
    "values = list(df.loc[:, \"counties_count\"])\n",
    "\n",
    "dict(zip(keys, values))"
   ]
  },
  {
   "cell_type": "code",
   "execution_count": 4,
   "id": "4b9958b0-baf4-4807-9137-cd2bfd60996c",
   "metadata": {
    "tags": []
   },
   "outputs": [
    {
     "data": {
      "text/plain": [
       "{'q1': 5.2428799999999995e-05, 'q2': 5.2428799999999995e-05}"
      ]
     },
     "execution_count": 4,
     "metadata": {},
     "output_type": "execute_result"
    }
   ],
   "source": [
    "#q3\n",
    "q1_bill = result_q1.total_bytes_billed\n",
    "q2_bill = result_q2.total_bytes_billed\n",
    "cost = 5  \n",
    "\n",
    "cost_q1 = (q1_bill / 1e12) * cost\n",
    "cost_q2 = (q2_bill / 1e12) * cost\n",
    "\n",
    "{'q1': cost_q1, 'q2': cost_q2}"
   ]
  },
  {
   "cell_type": "code",
   "execution_count": 5,
   "id": "16b6b37b-802f-430a-b96a-1a0261490bf4",
   "metadata": {
    "tags": []
   },
   "outputs": [
    {
     "data": {
      "text/plain": [
       "['p7']"
      ]
     },
     "execution_count": 5,
     "metadata": {},
     "output_type": "execute_result"
    }
   ],
   "source": [
    "#q4\n",
    "\n",
    "gcs_uri = \"gs://bencolemanbucket/hdma-wi-2021.parquet\"\n",
    "project_id = bq.project\n",
    "\n",
    "dataset_id = f\"{project_id}.p7\"\n",
    "dataset = bigquery.Dataset(dataset_id)\n",
    "dataset.location = \"US\"\n",
    "bq.create_dataset(dataset, exists_ok=True)\n",
    "\n",
    "table_id = f\"{project_id}.p7.hdma\"\n",
    "job_config = bigquery.LoadJobConfig(\n",
    "    source_format=bigquery.SourceFormat.PARQUET,\n",
    "    write_disposition=bigquery.WriteDisposition.WRITE_TRUNCATE,\n",
    ")\n",
    "\n",
    "load_job = bq.load_table_from_uri(gcs_uri, table_id, job_config=job_config)\n",
    "load_job.result()\n",
    "\n",
    "table = bq.get_table(table_id)\n",
    "[ds.dataset_id for ds in bq.list_datasets(\"cs544-s23-376219\")]"
   ]
  },
  {
   "cell_type": "code",
   "execution_count": 6,
   "id": "61a96d42-2e7b-4f10-abb5-298a47f1e315",
   "metadata": {
    "tags": []
   },
   "outputs": [
    {
     "data": {
      "text/plain": [
       "{'Milwaukee': 46570,\n",
       " 'Dane': 38557,\n",
       " 'Waukesha': 34159,\n",
       " 'Brown': 15615,\n",
       " 'Racine': 13007,\n",
       " 'Outagamie': 11523,\n",
       " 'Kenosha': 10744,\n",
       " 'Washington': 10726,\n",
       " 'Rock': 9834,\n",
       " 'Winnebago': 9310}"
      ]
     },
     "execution_count": 6,
     "metadata": {},
     "output_type": "execute_result"
    }
   ],
   "source": [
    "#q5\n",
    "query_q5 = \"\"\"\n",
    "SELECT c.county_name, COUNT(*) as loan_count\n",
    "FROM cs544-s23-376219.p7.hdma as h\n",
    "JOIN bigquery-public-data.geo_us_boundaries.counties as c\n",
    "ON h.county_code = c.county_fips_code\n",
    "WHERE h.county_code IS NOT NULL\n",
    "GROUP BY c.county_name\n",
    "ORDER BY loan_count DESC\n",
    "LIMIT 10\n",
    "\"\"\"\n",
    "\n",
    "df = {}\n",
    "result_q5 = bq.query(query_q5)\n",
    "for row in result_q5: \n",
    "    df[row[\"county_name\"]] = row[\"loan_count\"]\n",
    "df\n"
   ]
  },
  {
   "cell_type": "code",
   "execution_count": 7,
   "id": "b4697a2b-c45a-48f9-b38d-b3b22b81ffa3",
   "metadata": {
    "tags": []
   },
   "outputs": [
    {
     "data": {
      "text/plain": [
       "7"
      ]
     },
     "execution_count": 7,
     "metadata": {},
     "output_type": "execute_result"
    }
   ],
   "source": [
    "#q6\n",
    "\n",
    "config = bigquery.ExternalConfig(\"GOOGLE_SHEETS\")\n",
    "config.source_uris = [\"https://drive.google.com/open?id=1e2qLPyxZ7s5ibMyEg7bxX2wWYAQD2ROAUcZuv8fqhnA\"]\n",
    "config.autodetect = True\n",
    "\n",
    "table = bigquery.Table(\"cs544-s23-376219.p7.loan_applications\")\n",
    "table.external_data_configuration = config\n",
    "\n",
    "table = bq.create_table(table, exists_ok=True)\n",
    "\n",
    "query_q6 = f\"\"\"\n",
    "SELECT COUNT(*) as num_applications\n",
    "FROM cs544-s23-376219.p7.loan_applications\n",
    "WHERE Income = 120000\n",
    "\"\"\"\n",
    "\n",
    "results_q6 = bq.query(query_q6).to_dataframe()\n",
    "results_q6['num_applications'][0]"
   ]
  },
  {
   "cell_type": "code",
   "execution_count": 8,
   "id": "30a4ef98-0585-4496-8eeb-8f08bfe94c97",
   "metadata": {
    "tags": []
   },
   "outputs": [
    {
     "data": {
      "text/plain": [
       "{'Dane': 26,\n",
       " 'Door': 5,\n",
       " 'Brown': 3,\n",
       " 'Walworth': 2,\n",
       " 'Columbia': 2,\n",
       " 'Bayfield': 2,\n",
       " 'Jefferson': 2,\n",
       " 'Adams': 1,\n",
       " 'La Crosse': 1,\n",
       " 'Sheboygan': 1,\n",
       " 'Barron': 1,\n",
       " 'Iron': 1,\n",
       " 'Waukesha': 1,\n",
       " 'Iowa': 1,\n",
       " 'Green Lake': 1,\n",
       " 'Kewaunee': 1,\n",
       " 'Milwaukee': 1,\n",
       " 'Sauk': 1,\n",
       " 'Monroe': 1,\n",
       " 'Oneida': 1}"
      ]
     },
     "execution_count": 8,
     "metadata": {},
     "output_type": "execute_result"
    }
   ],
   "source": [
    "#q7\n",
    "query_q7 = f\"\"\"\n",
    "SELECT c.county_name, COUNT(*) as num_applications\n",
    "FROM cs544-s23-376219.p7.loan_applications as l\n",
    "JOIN bigquery-public-data.geo_us_boundaries.counties as c\n",
    "ON ST_CONTAINS(c.county_geom, ST_GEOGPOINT(l.Longitude, l.Latitude))\n",
    "WHERE c.state_fips_code = '55'\n",
    "GROUP BY c.county_name\n",
    "ORDER BY num_applications DESC\n",
    "\"\"\"\n",
    "\n",
    "results_q7 = bq.query(query_q7).to_dataframe()\n",
    "county_application_counts = dict(zip(results_q7['county_name'], results_q7['num_applications']))\n",
    "county_application_counts\n"
   ]
  },
  {
   "cell_type": "code",
   "execution_count": 9,
   "id": "18f1f6cd-3d7a-40e7-be79-32c44a8fea8e",
   "metadata": {
    "tags": []
   },
   "outputs": [
    {
     "data": {
      "text/plain": [
       "0.29165346922392255"
      ]
     },
     "execution_count": 9,
     "metadata": {},
     "output_type": "execute_result"
    }
   ],
   "source": [
    "#q8\n",
    "query = f\"\"\"\n",
    "CREATE OR REPLACE MODEL `cs544-s23-376219.p7.loan_prediction_model`\n",
    "OPTIONS(model_type='LINEAR_REG', input_label_cols=['loan_amount']) AS\n",
    "SELECT\n",
    "  loan_amount,\n",
    "  income,\n",
    "  loan_term\n",
    "FROM\n",
    "  `cs544-s23-376219.p7.hdma`\n",
    "\n",
    "\"\"\"\n",
    "\n",
    "bq.query(query).result()\n",
    "\n",
    "query_q8 = f\"\"\"\n",
    "SELECT\n",
    "  r2_score\n",
    "FROM\n",
    "  ML.EVALUATE(MODEL `cs544-s23-376219.p7.loan_prediction_model`,\n",
    "  (SELECT income, loan_term, loan_amount\n",
    "  FROM cs544-s23-376219.p7.hdma)\n",
    "  )\n",
    "\"\"\"\n",
    "\n",
    "results_q8 = bq.query(query_q8).to_dataframe()\n",
    "results_q8['r2_score'][0]"
   ]
  },
  {
   "cell_type": "code",
   "execution_count": 10,
   "id": "0a531165-f737-45ba-9cb3-38e0ff55103e",
   "metadata": {
    "tags": []
   },
   "outputs": [
    {
     "data": {
      "text/plain": [
       "0.8046310253990144"
      ]
     },
     "execution_count": 10,
     "metadata": {},
     "output_type": "execute_result"
    }
   ],
   "source": [
    "#q9\n",
    "query_q9 = f\"\"\"\n",
    "SELECT\n",
    "  processed_input,\n",
    "  weight\n",
    "FROM\n",
    "  ML.WEIGHTS(MODEL `cs544-s23-376219.p7.loan_prediction_model`)\n",
    "\"\"\"\n",
    "\n",
    "results_q9 = bq.query(query_q9).to_dataframe()\n",
    "income_weight = results_q9.loc[results_q9['processed_input'] == 'income', 'weight'].values[0]\n",
    "income_weight"
   ]
  },
  {
   "cell_type": "code",
   "execution_count": 11,
   "id": "1c3c7a74-9bed-4ac1-b8ae-12110698f0d2",
   "metadata": {
    "tags": []
   },
   "outputs": [
    {
     "data": {
      "text/plain": [
       "0.5980392156862745"
      ]
     },
     "execution_count": 11,
     "metadata": {},
     "output_type": "execute_result"
    }
   ],
   "source": [
    "#q10\n",
    "loan_weight = results_q9.loc[results_q9['processed_input'] == 'loan_term', 'weight'].values[0]\n",
    "intercept_weight = results_q9.loc[results_q9['processed_input'] == '__INTERCEPT__', 'weight'].values[0]\n",
    "\n",
    "query_q10 = f\"\"\"\n",
    "SELECT income, loan_amount,\n",
    "       {intercept_weight} + {income_weight} * Income + {loan_weight} * 360 as predicted_amount\n",
    "FROM cs544-s23-376219.p7.loan_applications\n",
    "\"\"\"\n",
    "\n",
    "results_q10 = bq.query(query_q10).to_dataframe()\n",
    "\n",
    "amounts = results_q10[\"loan_amount\"]\n",
    "predicted = results_q10['predicted_amount']\n",
    "greater = 0\n",
    "for i in range(len(results_q10)):\n",
    "    if amounts[i] > predicted[i]:\n",
    "        greater += 1\n",
    "greater / len(results_q10)"
   ]
  }
 ],
 "metadata": {
  "kernelspec": {
   "display_name": "Python 3 (ipykernel)",
   "language": "python",
   "name": "python3"
  },
  "language_info": {
   "codemirror_mode": {
    "name": "ipython",
    "version": 3
   },
   "file_extension": ".py",
   "mimetype": "text/x-python",
   "name": "python",
   "nbconvert_exporter": "python",
   "pygments_lexer": "ipython3",
   "version": "3.10.6"
  }
 },
 "nbformat": 4,
 "nbformat_minor": 5
}
