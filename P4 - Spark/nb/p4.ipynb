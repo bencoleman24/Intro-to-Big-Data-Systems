{
 "cells": [
  {
   "cell_type": "markdown",
   "id": "79e35555-ab30-4833-b8ba-7e1f4a555532",
   "metadata": {
    "tags": []
   },
   "source": [
    "# Part 1: Data Setup"
   ]
  },
  {
   "cell_type": "code",
   "execution_count": 1,
   "id": "2e73f836-c49e-4ef7-b1e5-db308168094b",
   "metadata": {
    "tags": []
   },
   "outputs": [
    {
     "name": "stderr",
     "output_type": "stream",
     "text": [
      "Using Spark's default log4j profile: org/apache/spark/log4j-defaults.properties\n",
      "Setting default log level to \"WARN\".\n",
      "To adjust logging level use sc.setLogLevel(newLevel). For SparkR, use setLogLevel(newLevel).\n",
      "23/04/03 02:51:29 WARN NativeCodeLoader: Unable to load native-hadoop library for your platform... using builtin-java classes where applicable\n"
     ]
    }
   ],
   "source": [
    "from pyspark.sql import SparkSession\n",
    "spark = (SparkSession.builder.appName(\"cs544\")\n",
    "         .master(\"spark://main:7077\")\n",
    "         .config(\"spark.executor.memory\", \"512M\")\n",
    "         .config(\"spark.sql.warehouse.dir\", \"hdfs://main:9000/user/hive/warehouse\")\n",
    "         .enableHiveSupport()\n",
    "         .getOrCreate())"
   ]
  },
  {
   "cell_type": "code",
   "execution_count": 2,
   "id": "2a3bcb16-fccd-4db9-b20a-b5cc66beb3bb",
   "metadata": {
    "tags": []
   },
   "outputs": [
    {
     "name": "stdout",
     "output_type": "stream",
     "text": [
      "--2023-04-03 02:51:39--  https://pages.cs.wisc.edu/~harter/cs639/data/hdma-wi-2021.zip\n",
      "Resolving pages.cs.wisc.edu (pages.cs.wisc.edu)... 128.105.7.9\n",
      "Connecting to pages.cs.wisc.edu (pages.cs.wisc.edu)|128.105.7.9|:443... connected.\n",
      "HTTP request sent, awaiting response... 200 OK\n",
      "Length: 21494278 (20M) [application/zip]\n",
      "Saving to: ‘hdma-wi-2021.zip’\n",
      "\n",
      "hdma-wi-2021.zip    100%[===================>]  20.50M  10.5MB/s    in 1.9s    \n",
      "\n",
      "2023-04-03 02:51:41 (10.5 MB/s) - ‘hdma-wi-2021.zip’ saved [21494278/21494278]\n",
      "\n",
      "--2023-04-03 02:51:42--  https://pages.cs.wisc.edu/~harter/cs639/data/code_sheets.zip\n",
      "Resolving pages.cs.wisc.edu (pages.cs.wisc.edu)... 128.105.7.9\n",
      "Connecting to pages.cs.wisc.edu (pages.cs.wisc.edu)|128.105.7.9|:443... connected.\n",
      "HTTP request sent, awaiting response... 200 OK\n",
      "Length: 798030 (779K) [application/zip]\n",
      "Saving to: ‘code_sheets.zip’\n",
      "\n",
      "code_sheets.zip     100%[===================>] 779.33K  --.-KB/s    in 0.1s    \n",
      "\n",
      "2023-04-03 02:51:42 (5.08 MB/s) - ‘code_sheets.zip’ saved [798030/798030]\n",
      "\n",
      "--2023-04-03 02:51:42--  https://pages.cs.wisc.edu/~harter/cs639/data/arid2017_to_lei_xref_csv.zip\n",
      "Resolving pages.cs.wisc.edu (pages.cs.wisc.edu)... 128.105.7.9\n",
      "Connecting to pages.cs.wisc.edu (pages.cs.wisc.edu)|128.105.7.9|:443... connected.\n",
      "HTTP request sent, awaiting response... 200 OK\n",
      "Length: 144804 (141K) [application/zip]\n",
      "Saving to: ‘arid2017_to_lei_xref_csv.zip’\n",
      "\n",
      "arid2017_to_lei_xre 100%[===================>] 141.41K  --.-KB/s    in 0.07s   \n",
      "\n",
      "2023-04-03 02:51:42 (1.85 MB/s) - ‘arid2017_to_lei_xref_csv.zip’ saved [144804/144804]\n",
      "\n"
     ]
    }
   ],
   "source": [
    "!wget https://pages.cs.wisc.edu/~harter/cs639/data/hdma-wi-2021.zip\n",
    "!wget https://pages.cs.wisc.edu/~harter/cs639/data/code_sheets.zip\n",
    "!wget https://pages.cs.wisc.edu/~harter/cs639/data/arid2017_to_lei_xref_csv.zip"
   ]
  },
  {
   "cell_type": "code",
   "execution_count": 3,
   "id": "dff3cc5e-e938-42e9-872f-de0a77599d96",
   "metadata": {},
   "outputs": [],
   "source": [
    "import zipfile\n",
    "\n",
    "# Unzip files \n",
    "with zipfile.ZipFile('hdma-wi-2021.zip', 'r') as zip_ref:\n",
    "    zip_ref.extractall('./')\n",
    "    \n",
    "with zipfile.ZipFile('code_sheets.zip', 'r') as zip_ref:\n",
    "    zip_ref.extractall('./')\n",
    "\n",
    "with zipfile.ZipFile('arid2017_to_lei_xref_csv.zip', 'r') as zip_ref:\n",
    "    zip_ref.extractall('./')"
   ]
  },
  {
   "cell_type": "code",
   "execution_count": 4,
   "id": "e804b40d-f071-47d8-a5b1-c140bb2e0452",
   "metadata": {
    "tags": []
   },
   "outputs": [
    {
     "name": "stdout",
     "output_type": "stream",
     "text": [
      "cp: `hdfs://main:9000/tracts.csv': File exists\n",
      "cp: `hdfs://main:9000/edit_status.csv': File exists\n",
      "cp: `hdfs://main:9000/loan_type.csv': File exists\n",
      "cp: `hdfs://main:9000/counties.csv': File exists\n",
      "cp: `hdfs://main:9000/purchaser_type.csv': File exists\n",
      "cp: `hdfs://main:9000/lien_status.csv': File exists\n",
      "cp: `hdfs://main:9000/hoepa.csv': File exists\n",
      "cp: `hdfs://main:9000/hdma-wi-2021.csv': File exists\n",
      "cp: `hdfs://main:9000/agency.csv': File exists\n",
      "cp: `hdfs://main:9000/denial_reason.csv': File exists\n",
      "cp: `hdfs://main:9000/states.csv': File exists\n",
      "cp: `hdfs://main:9000/owner_occupancy.csv': File exists\n",
      "cp: `hdfs://main:9000/msamd.csv': File exists\n",
      "cp: `hdfs://main:9000/race.csv': File exists\n",
      "cp: `hdfs://main:9000/ethnicity.csv': File exists\n",
      "cp: `hdfs://main:9000/sex.csv': File exists\n",
      "cp: `hdfs://main:9000/loan_purpose.csv': File exists\n",
      "cp: `hdfs://main:9000/preapproval.csv': File exists\n",
      "cp: `hdfs://main:9000/arid2017_to_lei_xref_csv.csv': File exists\n",
      "cp: `hdfs://main:9000/property_type.csv': File exists\n",
      "cp: `hdfs://main:9000/action_taken.csv': File exists\n"
     ]
    }
   ],
   "source": [
    "import os\n",
    "\n",
    "# Get list of csv files in directory\n",
    "csv_files = [f for f in os.listdir() if f.endswith('.csv')]\n",
    "\n",
    "# Copy files to HDFS\n",
    "for file in csv_files:\n",
    "    path = f\"hdfs://main:9000/{file}\"\n",
    "    !hdfs dfs -cp {file} {path}"
   ]
  },
  {
   "cell_type": "code",
   "execution_count": 5,
   "id": "a427191f-34ba-461b-bb2e-6eace70c7713",
   "metadata": {
    "tags": []
   },
   "outputs": [
    {
     "name": "stderr",
     "output_type": "stream",
     "text": [
      "23/04/03 02:53:20 WARN HiveConf: HiveConf of name hive.stats.jdbc.timeout does not exist\n",
      "23/04/03 02:53:20 WARN HiveConf: HiveConf of name hive.stats.retries.wait does not exist\n",
      "23/04/03 02:53:25 WARN ObjectStore: Version information not found in metastore. hive.metastore.schema.verification is not enabled so recording the schema version 2.3.0\n",
      "23/04/03 02:53:25 WARN ObjectStore: setMetaStoreSchemaVersion called but recording version is disabled: version = 2.3.0, comment = Set by MetaStore UNKNOWN@172.21.0.4\n",
      "23/04/03 02:53:26 WARN ObjectStore: Failed to get database global_temp, returning NoSuchObjectException\n",
      "23/04/03 02:53:27 WARN package: Truncated the string representation of a plan since it was too large. This behavior can be adjusted by setting 'spark.sql.debug.maxToStringFields'.\n",
      "23/04/03 02:53:56 WARN SessionState: METASTORE_FILTER_HOOK will be ignored, since hive.security.authorization.manager is set to instance of HiveAuthorizerFactory.\n",
      "23/04/03 02:53:56 WARN HiveConf: HiveConf of name hive.internal.ss.authz.settings.applied.marker does not exist\n",
      "23/04/03 02:53:56 WARN HiveConf: HiveConf of name hive.stats.jdbc.timeout does not exist\n",
      "23/04/03 02:53:56 WARN HiveConf: HiveConf of name hive.stats.retries.wait does not exist\n",
      "                                                                                \r"
     ]
    }
   ],
   "source": [
    "# Load hdma-wi-2021.csv to loans table\n",
    "loans = (spark.read.format(\"csv\")\n",
    "    .option(\"header\", True)\n",
    "    .option(\"inferSchema\", True)\n",
    "    .load(\"hdfs://main:9000/hdma-wi-2021.csv\"))\n",
    "\n",
    "# Divide loans table into 8 buckets \n",
    "loans = loans.repartition(8, \"county_code\")\n",
    "\n",
    "# Load arid2017_to_lei_xref.csv to banks table\n",
    "banks = (spark.read.format(\"csv\")\n",
    "    .option(\"header\", \"true\")\n",
    "    .option(\"inferSchema\", \"true\")\n",
    "    .load(\"hdfs://main:9000/arid2017_to_lei_xref_csv.csv\"))\n",
    "\n",
    "# Load CSV files from code_sheets.zip and create temporary views\n",
    "csv_files = [\"ethnicity\", \"race\", \"sex\", \"states\", \"counties\", \"tracts\", \"action_taken\", \"denial_reason\", \"loan_type\", \"loan_purpose\", \"preapproval\", \"property_type\"]\n",
    "csv_dfs = {}\n",
    "\n",
    "# Populate \"csv_dfs\" dictionary with data\n",
    "for csv_file in csv_files:\n",
    "    csv_df = (spark.read.format(\"csv\")\n",
    "        .option(\"header\", \"true\")\n",
    "        .option(\"inferSchema\", \"true\")\n",
    "        .load(f\"hdfs://main:9000/{csv_file}.csv\"))\n",
    "    csv_dfs[csv_file] = csv_df\n",
    "\n",
    "for csv_file, csv_df in csv_dfs.items():\n",
    "    csv_df.createOrReplaceTempView(csv_file)\n",
    "\n",
    "\n",
    "loans.write.format(\"parquet\").mode(\"overwrite\").saveAsTable(\"loans\")\n",
    "banks.write.format(\"parquet\").mode(\"overwrite\").saveAsTable(\"banks\")"
   ]
  },
  {
   "cell_type": "markdown",
   "id": "025a6b4c-a271-42e0-ac2e-4e81d70c070a",
   "metadata": {
    "tags": []
   },
   "source": [
    "### Q1: What tables are in our warehouse?"
   ]
  },
  {
   "cell_type": "code",
   "execution_count": 6,
   "id": "b57f220f-caf7-4b90-a829-3489d822c930",
   "metadata": {},
   "outputs": [
    {
     "name": "stdout",
     "output_type": "stream",
     "text": [
      "+---------+-------------+-----------+\n",
      "|namespace|    tableName|isTemporary|\n",
      "+---------+-------------+-----------+\n",
      "|  default|        banks|      false|\n",
      "|  default|        loans|      false|\n",
      "|         | action_taken|       true|\n",
      "|         |     counties|       true|\n",
      "|         |denial_reason|       true|\n",
      "|         |    ethnicity|       true|\n",
      "|         | loan_purpose|       true|\n",
      "|         |    loan_type|       true|\n",
      "|         |  preapproval|       true|\n",
      "|         |property_type|       true|\n",
      "|         |         race|       true|\n",
      "|         |          sex|       true|\n",
      "|         |       states|       true|\n",
      "|         |       tracts|       true|\n",
      "+---------+-------------+-----------+\n",
      "\n"
     ]
    }
   ],
   "source": [
    "spark.sql(\"SHOW TABLES\").show()"
   ]
  },
  {
   "cell_type": "markdown",
   "id": "b4cea686-dcd8-4350-a4e3-68c0b466adc0",
   "metadata": {},
   "source": [
    "# Part 2: Filter and Join"
   ]
  },
  {
   "cell_type": "markdown",
   "id": "c7c3e974-dbe0-482d-bc99-e3a04a6e0f0c",
   "metadata": {
    "tags": []
   },
   "source": [
    "### Q2: How many banks contain the word \"first\" in their name? Which ones contain \"second\"?"
   ]
  },
  {
   "cell_type": "code",
   "execution_count": 7,
   "id": "1d1fc48a-f948-4352-b6f0-f933a252420a",
   "metadata": {},
   "outputs": [
    {
     "name": "stderr",
     "output_type": "stream",
     "text": [
      "                                                                                \r"
     ]
    },
    {
     "name": "stdout",
     "output_type": "stream",
     "text": [
      "Number of banks containing 'first' in their name: 525\n",
      "List of banks containing 'second' in their name: ['Old Second National Bank']\n"
     ]
    }
   ],
   "source": [
    "# Contain \"first\" in their name\n",
    "first_banks = banks.filter(\"lower(respondent_name) like '%first%'\")\n",
    "num_first_banks = first_banks.count()\n",
    "\n",
    "# Contain \"second\" in their name\n",
    "second_banks = banks.filter(\"lower(respondent_name) like '%second%'\")\n",
    "list_second_banks = list(second_banks.toPandas().respondent_name)\n",
    "print(\"Number of banks containing 'first' in their name:\", num_first_banks)\n",
    "print(\"List of banks containing 'second' in their name:\", list_second_banks)\n",
    "      "
   ]
  },
  {
   "cell_type": "markdown",
   "id": "2e3f6df9-3466-404d-8b35-ec07b5a822a8",
   "metadata": {},
   "source": [
    "### Q3: how many loan applications has your \"favorite\" bank received in the dataset?\n"
   ]
  },
  {
   "cell_type": "code",
   "execution_count": 8,
   "id": "c6eab354-8c28-4e37-97a1-2a3d6dd81b3c",
   "metadata": {},
   "outputs": [
    {
     "name": "stderr",
     "output_type": "stream",
     "text": [
      "[Stage 39:=============================>                            (1 + 1) / 2]\r"
     ]
    },
    {
     "name": "stdout",
     "output_type": "stream",
     "text": [
      "12487 loan applications\n"
     ]
    },
    {
     "name": "stderr",
     "output_type": "stream",
     "text": [
      "                                                                                \r"
     ]
    }
   ],
   "source": [
    "favorite_bank = \"Wells Fargo Bank, National Association\"\n",
    "\n",
    "# join loans and banks tables\n",
    "joined_df = spark.table(\"loans\").join(spark.table(\"banks\"), spark.table(\"loans\").lei == spark.table(\"banks\").lei_2020)\n",
    "\n",
    "# Get df with favorite bank\n",
    "filtered_df = joined_df.filter(spark.table(\"banks\").respondent_name == favorite_bank)\n",
    "\n",
    "# count the number of loan applications received by Wells Fargo\n",
    "count = filtered_df.count()\n",
    "\n",
    "print(f\"{count} loan applications\")"
   ]
  },
  {
   "cell_type": "markdown",
   "id": "8cafc98b-3a8c-4810-8592-b47e87026c40",
   "metadata": {},
   "source": [
    "### Q4: what does results.explain(\"formatted\") tell us about Spark's query plan for Q3?"
   ]
  },
  {
   "cell_type": "code",
   "execution_count": 9,
   "id": "33f850d1-7ab6-4814-aa82-d23848b58558",
   "metadata": {
    "tags": []
   },
   "outputs": [
    {
     "name": "stdout",
     "output_type": "stream",
     "text": [
      "== Physical Plan ==\n",
      "AdaptiveSparkPlan (7)\n",
      "+- BroadcastHashJoin Inner BuildRight (6)\n",
      "   :- Filter (2)\n",
      "   :  +- Scan parquet default.loans (1)\n",
      "   +- BroadcastExchange (5)\n",
      "      +- Filter (4)\n",
      "         +- Scan parquet default.banks (3)\n",
      "\n",
      "\n",
      "(1) Scan parquet default.loans\n",
      "Output [99]: [activity_year#963, lei#964, derived_msa-md#965, state_code#966, county_code#967, census_tract#968, conforming_loan_limit#969, derived_loan_product_type#970, derived_dwelling_category#971, derived_ethnicity#972, derived_race#973, derived_sex#974, action_taken#975, purchaser_type#976, preapproval#977, loan_type#978, loan_purpose#979, lien_status#980, reverse_mortgage#981, open-end_line_of_credit#982, business_or_commercial_purpose#983, loan_amount#984, loan_to_value_ratio#985, interest_rate#986, rate_spread#987, hoepa_status#988, total_loan_costs#989, total_points_and_fees#990, origination_charges#991, discount_points#992, lender_credits#993, loan_term#994, prepayment_penalty_term#995, intro_rate_period#996, negative_amortization#997, interest_only_payment#998, balloon_payment#999, other_nonamortizing_features#1000, property_value#1001, construction_method#1002, occupancy_type#1003, manufactured_home_secured_property_type#1004, manufactured_home_land_property_interest#1005, total_units#1006, multifamily_affordable_units#1007, income#1008, debt_to_income_ratio#1009, applicant_credit_score_type#1010, co-applicant_credit_score_type#1011, applicant_ethnicity-1#1012, applicant_ethnicity-2#1013, applicant_ethnicity-3#1014, applicant_ethnicity-4#1015, applicant_ethnicity-5#1016, co-applicant_ethnicity-1#1017, co-applicant_ethnicity-2#1018, co-applicant_ethnicity-3#1019, co-applicant_ethnicity-4#1020, co-applicant_ethnicity-5#1021, applicant_ethnicity_observed#1022, co-applicant_ethnicity_observed#1023, applicant_race-1#1024, applicant_race-2#1025, applicant_race-3#1026, applicant_race-4#1027, applicant_race-5#1028, co-applicant_race-1#1029, co-applicant_race-2#1030, co-applicant_race-3#1031, co-applicant_race-4#1032, co-applicant_race-5#1033, applicant_race_observed#1034, co-applicant_race_observed#1035, applicant_sex#1036, co-applicant_sex#1037, applicant_sex_observed#1038, co-applicant_sex_observed#1039, applicant_age#1040, co-applicant_age#1041, applicant_age_above_62#1042, co-applicant_age_above_62#1043, submission_of_application#1044, initially_payable_to_institution#1045, aus-1#1046, aus-2#1047, aus-3#1048, aus-4#1049, aus-5#1050, denial_reason-1#1051, denial_reason-2#1052, denial_reason-3#1053, denial_reason-4#1054, tract_population#1055, tract_minority_population_percent#1056, ffiec_msa_md_median_family_income#1057, tract_to_msa_income_percentage#1058, tract_owner_occupied_units#1059, tract_one_to_four_family_homes#1060, tract_median_age_of_housing_units#1061]\n",
      "Batched: true\n",
      "Location: InMemoryFileIndex [hdfs://main:9000/user/hive/warehouse/loans]\n",
      "PushedFilters: [IsNotNull(lei)]\n",
      "ReadSchema: struct<activity_year:int,lei:string,derived_msa-md:int,state_code:string,county_code:string,census_tract:string,conforming_loan_limit:string,derived_loan_product_type:string,derived_dwelling_category:string,derived_ethnicity:string,derived_race:string,derived_sex:string,action_taken:int,purchaser_type:int,preapproval:int,loan_type:int,loan_purpose:int,lien_status:int,reverse_mortgage:int,open-end_line_of_credit:int,business_or_commercial_purpose:int,loan_amount:double,loan_to_value_ratio:string,interest_rate:string,rate_spread:string,hoepa_status:int,total_loan_costs:string,total_points_and_fees:string,origination_charges:string,discount_points:string,lender_credits:string,loan_term:string,prepayment_penalty_term:string,intro_rate_period:string,negative_amortization:int,interest_only_payment:int,balloon_payment:int,other_nonamortizing_features:int,property_value:string,construction_method:int,occupancy_type:int,manufactured_home_secured_property_type:int,manufactured_home_land_property_interest:int,total_units:string,multifamily_affordable_units:string,income:string,debt_to_income_ratio:string,applicant_credit_score_type:int,co-applicant_credit_score_type:int,applicant_ethnicity-1:int,applicant_ethnicity-2:int,applicant_ethnicity-3:int,applicant_ethnicity-4:int,applicant_ethnicity-5:int,co-applicant_ethnicity-1:int,co-applicant_ethnicity-2:int,co-applicant_ethnicity-3:int,co-applicant_ethnicity-4:int,co-applicant_ethnicity-5:string,applicant_ethnicity_observed:int,co-applicant_ethnicity_observed:int,applicant_race-1:int,applicant_race-2:int,applicant_race-3:int,applicant_race-4:int,applicant_race-5:int,co-applicant_race-1:int,co-applicant_race-2:int,co-applicant_race-3:int,co-applicant_race-4:int,co-applicant_race-5:int,applicant_race_observed:int,co-applicant_race_observed:int,applicant_sex:int,co-applicant_sex:int,applicant_sex_observed:int,co-applicant_sex_observed:int,applicant_age:string,co-applicant_age:string,applicant_age_above_62:string,co-applicant_age_above_62:string,submission_of_application:int,initially_payable_to_institution:int,aus-1:int,aus-2:int,aus-3:int,aus-4:int,aus-5:int,denial_reason-1:int,denial_reason-2:int,denial_reason-3:int,denial_reason-4:int,tract_population:int,tract_minority_population_percent:double,ffiec_msa_md_median_family_income:int,tract_to_msa_income_percentage:int,tract_owner_occupied_units:int,tract_one_to_four_family_homes:int,tract_median_age_of_housing_units:int>\n",
      "\n",
      "(2) Filter\n",
      "Input [99]: [activity_year#963, lei#964, derived_msa-md#965, state_code#966, county_code#967, census_tract#968, conforming_loan_limit#969, derived_loan_product_type#970, derived_dwelling_category#971, derived_ethnicity#972, derived_race#973, derived_sex#974, action_taken#975, purchaser_type#976, preapproval#977, loan_type#978, loan_purpose#979, lien_status#980, reverse_mortgage#981, open-end_line_of_credit#982, business_or_commercial_purpose#983, loan_amount#984, loan_to_value_ratio#985, interest_rate#986, rate_spread#987, hoepa_status#988, total_loan_costs#989, total_points_and_fees#990, origination_charges#991, discount_points#992, lender_credits#993, loan_term#994, prepayment_penalty_term#995, intro_rate_period#996, negative_amortization#997, interest_only_payment#998, balloon_payment#999, other_nonamortizing_features#1000, property_value#1001, construction_method#1002, occupancy_type#1003, manufactured_home_secured_property_type#1004, manufactured_home_land_property_interest#1005, total_units#1006, multifamily_affordable_units#1007, income#1008, debt_to_income_ratio#1009, applicant_credit_score_type#1010, co-applicant_credit_score_type#1011, applicant_ethnicity-1#1012, applicant_ethnicity-2#1013, applicant_ethnicity-3#1014, applicant_ethnicity-4#1015, applicant_ethnicity-5#1016, co-applicant_ethnicity-1#1017, co-applicant_ethnicity-2#1018, co-applicant_ethnicity-3#1019, co-applicant_ethnicity-4#1020, co-applicant_ethnicity-5#1021, applicant_ethnicity_observed#1022, co-applicant_ethnicity_observed#1023, applicant_race-1#1024, applicant_race-2#1025, applicant_race-3#1026, applicant_race-4#1027, applicant_race-5#1028, co-applicant_race-1#1029, co-applicant_race-2#1030, co-applicant_race-3#1031, co-applicant_race-4#1032, co-applicant_race-5#1033, applicant_race_observed#1034, co-applicant_race_observed#1035, applicant_sex#1036, co-applicant_sex#1037, applicant_sex_observed#1038, co-applicant_sex_observed#1039, applicant_age#1040, co-applicant_age#1041, applicant_age_above_62#1042, co-applicant_age_above_62#1043, submission_of_application#1044, initially_payable_to_institution#1045, aus-1#1046, aus-2#1047, aus-3#1048, aus-4#1049, aus-5#1050, denial_reason-1#1051, denial_reason-2#1052, denial_reason-3#1053, denial_reason-4#1054, tract_population#1055, tract_minority_population_percent#1056, ffiec_msa_md_median_family_income#1057, tract_to_msa_income_percentage#1058, tract_owner_occupied_units#1059, tract_one_to_four_family_homes#1060, tract_median_age_of_housing_units#1061]\n",
      "Condition : isnotnull(lei#964)\n",
      "\n",
      "(3) Scan parquet default.banks\n",
      "Output [5]: [respondent_name#1161, arid_2017#1162, lei_2018#1163, lei_2019#1164, lei_2020#1165]\n",
      "Batched: true\n",
      "Location: InMemoryFileIndex [hdfs://main:9000/user/hive/warehouse/banks]\n",
      "PushedFilters: [IsNotNull(respondent_name), EqualTo(respondent_name,Wells Fargo Bank, National Association), IsNotNull(lei_2020)]\n",
      "ReadSchema: struct<respondent_name:string,arid_2017:string,lei_2018:string,lei_2019:string,lei_2020:string>\n",
      "\n",
      "(4) Filter\n",
      "Input [5]: [respondent_name#1161, arid_2017#1162, lei_2018#1163, lei_2019#1164, lei_2020#1165]\n",
      "Condition : ((isnotnull(respondent_name#1161) AND (respondent_name#1161 = Wells Fargo Bank, National Association)) AND isnotnull(lei_2020#1165))\n",
      "\n",
      "(5) BroadcastExchange\n",
      "Input [5]: [respondent_name#1161, arid_2017#1162, lei_2018#1163, lei_2019#1164, lei_2020#1165]\n",
      "Arguments: HashedRelationBroadcastMode(List(input[4, string, false]),false), [plan_id=561]\n",
      "\n",
      "(6) BroadcastHashJoin\n",
      "Left keys [1]: [lei#964]\n",
      "Right keys [1]: [lei_2020#1165]\n",
      "Join condition: None\n",
      "\n",
      "(7) AdaptiveSparkPlan\n",
      "Output [104]: [activity_year#963, lei#964, derived_msa-md#965, state_code#966, county_code#967, census_tract#968, conforming_loan_limit#969, derived_loan_product_type#970, derived_dwelling_category#971, derived_ethnicity#972, derived_race#973, derived_sex#974, action_taken#975, purchaser_type#976, preapproval#977, loan_type#978, loan_purpose#979, lien_status#980, reverse_mortgage#981, open-end_line_of_credit#982, business_or_commercial_purpose#983, loan_amount#984, loan_to_value_ratio#985, interest_rate#986, rate_spread#987, hoepa_status#988, total_loan_costs#989, total_points_and_fees#990, origination_charges#991, discount_points#992, lender_credits#993, loan_term#994, prepayment_penalty_term#995, intro_rate_period#996, negative_amortization#997, interest_only_payment#998, balloon_payment#999, other_nonamortizing_features#1000, property_value#1001, construction_method#1002, occupancy_type#1003, manufactured_home_secured_property_type#1004, manufactured_home_land_property_interest#1005, total_units#1006, multifamily_affordable_units#1007, income#1008, debt_to_income_ratio#1009, applicant_credit_score_type#1010, co-applicant_credit_score_type#1011, applicant_ethnicity-1#1012, applicant_ethnicity-2#1013, applicant_ethnicity-3#1014, applicant_ethnicity-4#1015, applicant_ethnicity-5#1016, co-applicant_ethnicity-1#1017, co-applicant_ethnicity-2#1018, co-applicant_ethnicity-3#1019, co-applicant_ethnicity-4#1020, co-applicant_ethnicity-5#1021, applicant_ethnicity_observed#1022, co-applicant_ethnicity_observed#1023, applicant_race-1#1024, applicant_race-2#1025, applicant_race-3#1026, applicant_race-4#1027, applicant_race-5#1028, co-applicant_race-1#1029, co-applicant_race-2#1030, co-applicant_race-3#1031, co-applicant_race-4#1032, co-applicant_race-5#1033, applicant_race_observed#1034, co-applicant_race_observed#1035, applicant_sex#1036, co-applicant_sex#1037, applicant_sex_observed#1038, co-applicant_sex_observed#1039, applicant_age#1040, co-applicant_age#1041, applicant_age_above_62#1042, co-applicant_age_above_62#1043, submission_of_application#1044, initially_payable_to_institution#1045, aus-1#1046, aus-2#1047, aus-3#1048, aus-4#1049, aus-5#1050, denial_reason-1#1051, denial_reason-2#1052, denial_reason-3#1053, denial_reason-4#1054, tract_population#1055, tract_minority_population_percent#1056, ffiec_msa_md_median_family_income#1057, tract_to_msa_income_percentage#1058, tract_owner_occupied_units#1059, tract_one_to_four_family_homes#1060, tract_median_age_of_housing_units#1061, respondent_name#1161, arid_2017#1162, lei_2018#1163, lei_2019#1164, lei_2020#1165]\n",
      "Arguments: isFinalPlan=false\n",
      "\n",
      "\n"
     ]
    }
   ],
   "source": [
    "filtered_df.explain(\"formatted\")\n",
    "# The \"banks\" table is being sent to every executer \n",
    "# \"is not null\" filtering is on both tables\n",
    "# There is no HashAggregate plan"
   ]
  },
  {
   "cell_type": "markdown",
   "id": "6c3e18ab-094d-4fd9-85f7-36a2d40bd143",
   "metadata": {},
   "source": [
    "### Q5: what are the top 10 biggest loans (in terms of loan_amount) that were approved by your favorite bank?"
   ]
  },
  {
   "cell_type": "code",
   "execution_count": 10,
   "id": "6d5342d9-6822-423d-82df-2e24e208c1aa",
   "metadata": {
    "tags": []
   },
   "outputs": [
    {
     "name": "stderr",
     "output_type": "stream",
     "text": [
      "                                                                                \r"
     ]
    },
    {
     "data": {
      "text/html": [
       "<div>\n",
       "<style scoped>\n",
       "    .dataframe tbody tr th:only-of-type {\n",
       "        vertical-align: middle;\n",
       "    }\n",
       "\n",
       "    .dataframe tbody tr th {\n",
       "        vertical-align: top;\n",
       "    }\n",
       "\n",
       "    .dataframe thead th {\n",
       "        text-align: right;\n",
       "    }\n",
       "</style>\n",
       "<table border=\"1\" class=\"dataframe\">\n",
       "  <thead>\n",
       "    <tr style=\"text-align: right;\">\n",
       "      <th></th>\n",
       "      <th>census_tract</th>\n",
       "      <th>county</th>\n",
       "      <th>loan_purpose</th>\n",
       "      <th>derived_dwelling_category</th>\n",
       "      <th>thousands</th>\n",
       "      <th>interest_rate</th>\n",
       "      <th>years</th>\n",
       "      <th>action_taken</th>\n",
       "    </tr>\n",
       "  </thead>\n",
       "  <tbody>\n",
       "    <tr>\n",
       "      <th>0</th>\n",
       "      <td>55127000302</td>\n",
       "      <td>Walworth</td>\n",
       "      <td>Home purchase</td>\n",
       "      <td>Single Family (1-4 Units):Site-Built</td>\n",
       "      <td>1545.0</td>\n",
       "      <td>1.875</td>\n",
       "      <td>30.0</td>\n",
       "      <td>Loan originated</td>\n",
       "    </tr>\n",
       "    <tr>\n",
       "      <th>1</th>\n",
       "      <td>55079080300</td>\n",
       "      <td>Milwaukee</td>\n",
       "      <td>Home purchase</td>\n",
       "      <td>Single Family (1-4 Units):Site-Built</td>\n",
       "      <td>1305.0</td>\n",
       "      <td>2.25</td>\n",
       "      <td>30.0</td>\n",
       "      <td>Loan originated</td>\n",
       "    </tr>\n",
       "    <tr>\n",
       "      <th>2</th>\n",
       "      <td>55079014300</td>\n",
       "      <td>Milwaukee</td>\n",
       "      <td>Home purchase</td>\n",
       "      <td>Single Family (1-4 Units):Site-Built</td>\n",
       "      <td>1245.0</td>\n",
       "      <td>2.875</td>\n",
       "      <td>30.0</td>\n",
       "      <td>Loan originated</td>\n",
       "    </tr>\n",
       "    <tr>\n",
       "      <th>3</th>\n",
       "      <td>55089660202</td>\n",
       "      <td>Ozaukee</td>\n",
       "      <td>Home purchase</td>\n",
       "      <td>Single Family (1-4 Units):Site-Built</td>\n",
       "      <td>1205.0</td>\n",
       "      <td>3.0</td>\n",
       "      <td>30.0</td>\n",
       "      <td>Loan originated</td>\n",
       "    </tr>\n",
       "    <tr>\n",
       "      <th>4</th>\n",
       "      <td>55079018200</td>\n",
       "      <td>Milwaukee</td>\n",
       "      <td>Home purchase</td>\n",
       "      <td>Single Family (1-4 Units):Site-Built</td>\n",
       "      <td>1195.0</td>\n",
       "      <td>2.375</td>\n",
       "      <td>30.0</td>\n",
       "      <td>Loan originated</td>\n",
       "    </tr>\n",
       "    <tr>\n",
       "      <th>5</th>\n",
       "      <td>55125950600</td>\n",
       "      <td>Vilas</td>\n",
       "      <td>Home purchase</td>\n",
       "      <td>Single Family (1-4 Units):Site-Built</td>\n",
       "      <td>1125.0</td>\n",
       "      <td>2.625</td>\n",
       "      <td>30.0</td>\n",
       "      <td>Loan originated</td>\n",
       "    </tr>\n",
       "    <tr>\n",
       "      <th>6</th>\n",
       "      <td>55133203802</td>\n",
       "      <td>Waukesha</td>\n",
       "      <td>Home purchase</td>\n",
       "      <td>Single Family (1-4 Units):Site-Built</td>\n",
       "      <td>1005.0</td>\n",
       "      <td>1.375</td>\n",
       "      <td>30.0</td>\n",
       "      <td>Loan originated</td>\n",
       "    </tr>\n",
       "    <tr>\n",
       "      <th>7</th>\n",
       "      <td>55059003001</td>\n",
       "      <td>Kenosha</td>\n",
       "      <td>Home purchase</td>\n",
       "      <td>Single Family (1-4 Units):Site-Built</td>\n",
       "      <td>1005.0</td>\n",
       "      <td>3.125</td>\n",
       "      <td>15.0</td>\n",
       "      <td>Loan originated</td>\n",
       "    </tr>\n",
       "    <tr>\n",
       "      <th>8</th>\n",
       "      <td>55133204400</td>\n",
       "      <td>Waukesha</td>\n",
       "      <td>Home purchase</td>\n",
       "      <td>Single Family (1-4 Units):Site-Built</td>\n",
       "      <td>915.0</td>\n",
       "      <td>2.875</td>\n",
       "      <td>30.0</td>\n",
       "      <td>Loan originated</td>\n",
       "    </tr>\n",
       "    <tr>\n",
       "      <th>9</th>\n",
       "      <td>55095960900</td>\n",
       "      <td>Polk</td>\n",
       "      <td>Home purchase</td>\n",
       "      <td>Single Family (1-4 Units):Site-Built</td>\n",
       "      <td>905.0</td>\n",
       "      <td>2.5</td>\n",
       "      <td>30.0</td>\n",
       "      <td>Loan originated</td>\n",
       "    </tr>\n",
       "  </tbody>\n",
       "</table>\n",
       "</div>"
      ],
      "text/plain": [
       "  census_tract     county   loan_purpose  \\\n",
       "0  55127000302   Walworth  Home purchase   \n",
       "1  55079080300  Milwaukee  Home purchase   \n",
       "2  55079014300  Milwaukee  Home purchase   \n",
       "3  55089660202    Ozaukee  Home purchase   \n",
       "4  55079018200  Milwaukee  Home purchase   \n",
       "5  55125950600      Vilas  Home purchase   \n",
       "6  55133203802   Waukesha  Home purchase   \n",
       "7  55059003001    Kenosha  Home purchase   \n",
       "8  55133204400   Waukesha  Home purchase   \n",
       "9  55095960900       Polk  Home purchase   \n",
       "\n",
       "              derived_dwelling_category  thousands interest_rate  years  \\\n",
       "0  Single Family (1-4 Units):Site-Built     1545.0         1.875   30.0   \n",
       "1  Single Family (1-4 Units):Site-Built     1305.0          2.25   30.0   \n",
       "2  Single Family (1-4 Units):Site-Built     1245.0         2.875   30.0   \n",
       "3  Single Family (1-4 Units):Site-Built     1205.0           3.0   30.0   \n",
       "4  Single Family (1-4 Units):Site-Built     1195.0         2.375   30.0   \n",
       "5  Single Family (1-4 Units):Site-Built     1125.0         2.625   30.0   \n",
       "6  Single Family (1-4 Units):Site-Built     1005.0         1.375   30.0   \n",
       "7  Single Family (1-4 Units):Site-Built     1005.0         3.125   15.0   \n",
       "8  Single Family (1-4 Units):Site-Built      915.0         2.875   30.0   \n",
       "9  Single Family (1-4 Units):Site-Built      905.0           2.5   30.0   \n",
       "\n",
       "      action_taken  \n",
       "0  Loan originated  \n",
       "1  Loan originated  \n",
       "2  Loan originated  \n",
       "3  Loan originated  \n",
       "4  Loan originated  \n",
       "5  Loan originated  \n",
       "6  Loan originated  \n",
       "7  Loan originated  \n",
       "8  Loan originated  \n",
       "9  Loan originated  "
      ]
     },
     "execution_count": 10,
     "metadata": {},
     "output_type": "execute_result"
    }
   ],
   "source": [
    "from pyspark.sql.functions import *\n",
    "\n",
    "# Get relevant data from dictionary\n",
    "loan_purpose = csv_dfs[\"loan_purpose\"]\n",
    "counties = csv_dfs[\"counties\"]\n",
    "action_taken = csv_dfs[\"action_taken\"]\n",
    "\n",
    "\n",
    "# Make table with matching county code to \"loans\" table\n",
    "counties_with_code = counties.withColumn(\n",
    "    \"state_county_code\",\n",
    "    concat(lpad(counties.STATE.cast(\"string\"), 2, \"0\"), lpad(counties.COUNTY.cast(\"string\"), 3, \"0\"))\n",
    ")\n",
    "\n",
    "# Join to get loans table with county name\n",
    "loans_with_county_name = loans.join(\n",
    "    counties_with_code, \n",
    "    loans.county_code == counties_with_code.state_county_code, \n",
    "    \"left_outer\"\n",
    ")\n",
    "\n",
    "# Join with banks table\n",
    "loans_banks = loans_with_county_name.join(\n",
    "    banks,\n",
    "    loans_with_county_name.lei == banks.lei_2020,\n",
    "    \"left_outer\"\n",
    ")\n",
    "\n",
    "# Filter for favorite bank\n",
    "fav_df = loans_banks.filter(loans_banks.respondent_name == favorite_bank)\n",
    "\n",
    "# Change column name for easier join process\n",
    "fav_df = fav_df.withColumnRenamed(\"loan_purpose\", \"lp\")\n",
    "\n",
    "# Join with loan_purpose table\n",
    "fav_df = loan_purpose.join(\n",
    "    fav_df,\n",
    "    fav_df.lp == loan_purpose.id,\n",
    "    \"left_outer\"\n",
    ")\n",
    "\n",
    "# Get \"thousands\" column\n",
    "fav_df = fav_df.withColumn(\"thousands\", col(\"loan_amount\") / 1000)\n",
    "\n",
    "# Change column name for easier join process\n",
    "fav_df = fav_df.withColumnRenamed(\"action_taken\", \"at\")\n",
    "\n",
    "# Join to get \"action_taken\" column\n",
    "fav_df = action_taken.join(\n",
    "    fav_df,\n",
    "    fav_df.at == action_taken.id,\n",
    "    \"left_outer\"\n",
    ")\n",
    "\n",
    "# Filter to get top 10 valid loans\n",
    "fav_df_10 = fav_df.filter(fav_df.action_taken == \"Loan originated\") \\\n",
    "                   .sort(desc(\"loan_amount\")) \\\n",
    "                   .limit(10)\n",
    "\n",
    "# Renaming to fit requirements \n",
    "fav_df_10 = fav_df_10.withColumnRenamed(\"county\", \"c\")\n",
    "fav_df_10 = fav_df_10.withColumnRenamed(\"NAME\", \"county\")\n",
    "\n",
    "# Months to years transformation with \"loan_term\"\n",
    "fav_df_10 = fav_df_10.withColumn(\"years\", col(\"loan_term\") / 12)\n",
    "\n",
    "# Select relevant columns\n",
    "fav_df_10 = fav_df_10.select(\"census_tract\", \"county\", \"loan_purpose\", \"derived_dwelling_category\", \"thousands\", \"interest_rate\", \"years\", \"action_taken\")\n",
    "\n",
    "fav_df_10.toPandas()"
   ]
  },
  {
   "cell_type": "markdown",
   "id": "095a6563-028b-4172-b627-bedbc6598740",
   "metadata": {},
   "source": [
    "# Part 3: GROUPY BY and Windowing"
   ]
  },
  {
   "cell_type": "markdown",
   "id": "47a99f27-c9ce-454e-9865-f0a5c021464b",
   "metadata": {},
   "source": [
    "### Q6: when computing a MEAN aggregate per group of loans, under what situation (when) do we require network I/O between the partial_mean and mean operations?\n"
   ]
  },
  {
   "cell_type": "code",
   "execution_count": 11,
   "id": "c2f043cc-3eb7-4512-9f91-f1b706d59d3e",
   "metadata": {
    "tags": []
   },
   "outputs": [
    {
     "name": "stdout",
     "output_type": "stream",
     "text": [
      "== Physical Plan ==\n",
      "AdaptiveSparkPlan isFinalPlan=false\n",
      "+- HashAggregate(keys=[county_code#967], functions=[avg(loan_amount#984)])\n",
      "   +- Exchange hashpartitioning(county_code#967, 200), ENSURE_REQUIREMENTS, [plan_id=1117]\n",
      "      +- HashAggregate(keys=[county_code#967], functions=[partial_avg(loan_amount#984)])\n",
      "         +- FileScan parquet default.loans[county_code#967,loan_amount#984] Batched: true, DataFilters: [], Format: Parquet, Location: InMemoryFileIndex(1 paths)[hdfs://main:9000/user/hive/warehouse/loans], PartitionFilters: [], PushedFilters: [], ReadSchema: struct<county_code:string,loan_amount:double>\n",
      "\n",
      "\n",
      "== Physical Plan ==\n",
      "AdaptiveSparkPlan isFinalPlan=false\n",
      "+- HashAggregate(keys=[lei#964], functions=[avg(loan_amount#984)])\n",
      "   +- Exchange hashpartitioning(lei#964, 200), ENSURE_REQUIREMENTS, [plan_id=1130]\n",
      "      +- HashAggregate(keys=[lei#964], functions=[partial_avg(loan_amount#984)])\n",
      "         +- FileScan parquet default.loans[lei#964,loan_amount#984] Batched: true, DataFilters: [], Format: Parquet, Location: InMemoryFileIndex(1 paths)[hdfs://main:9000/user/hive/warehouse/loans], PartitionFilters: [], PushedFilters: [], ReadSchema: struct<lei:string,loan_amount:double>\n",
      "\n",
      "\n"
     ]
    }
   ],
   "source": [
    "spark.sql(\"SELECT county_code, AVG(loan_amount) FROM loans GROUP BY county_code\").explain()\n",
    "spark.sql(\"SELECT lei, AVG(loan_amount) FROM loans GROUP BY lei\").explain()\n",
    "\n",
    "\n",
    "# In both queries network I/O is required between the operations.\n",
    "# This is because the data must be shuffled across nodes.\n",
    "# Network I/O is required in these cases where partial mean is computed on different nodes."
   ]
  },
  {
   "cell_type": "markdown",
   "id": "021fe879-aec5-400a-b544-11116eb1c77a",
   "metadata": {},
   "source": [
    "### Q7: what are the average interest rates for Wells Fargo applications for the ten counties where Wells Fargo receives the most applications?"
   ]
  },
  {
   "cell_type": "code",
   "execution_count": 12,
   "id": "3428b08b-15cc-45f3-a999-228cf0dff275",
   "metadata": {
    "tags": []
   },
   "outputs": [
    {
     "name": "stderr",
     "output_type": "stream",
     "text": [
      "                                                                                \r"
     ]
    },
    {
     "data": {
      "image/png": "[encoded data removed]",
      "text/plain": [
       "<Figure size 1200x800 with 1 Axes>"
      ]
     },
     "metadata": {},
     "output_type": "display_data"
    }
   ],
   "source": [
    "import matplotlib.pyplot as plt\n",
    "from pyspark.sql.functions import count\n",
    "import warnings\n",
    "\n",
    "warnings.filterwarnings(\"ignore\")\n",
    "\n",
    "county_interest_rates = fav_df.filter(fav_df.action_taken == \"Loan originated\") \\\n",
    "                              .groupBy(\"NAME\") \\\n",
    "                              .agg(avg(\"interest_rate\").alias(\"avg_interest_rate\"), \n",
    "                                   count(\"*\").alias(\"num_applications\")) \\\n",
    "                              .orderBy(desc(\"num_applications\")) \\\n",
    "                              .limit(10)\n",
    "\n",
    "x = list(county_interest_rates.toPandas().NAME)\n",
    "y = list(county_interest_rates.toPandas().avg_interest_rate)\n",
    "\n",
    "# Plotting\n",
    "fig, ax = plt.subplots(figsize=(12, 8))\n",
    "ax.bar(x = x, height = y)\n",
    "ax.set_xlabel(\"County Name\")\n",
    "ax.set_ylabel(\"Average Interest Rate\")\n",
    "ax.set_xticklabels(labels = x, rotation = 45, ha = \"right\")\n",
    "plt.show()"
   ]
  },
  {
   "cell_type": "markdown",
   "id": "b3bce474-7c13-4058-a4dd-1f466e8987e5",
   "metadata": {
    "jupyter": {
     "outputs_hidden": true
    },
    "tags": []
   },
   "source": [
    "### Q8: what is the second biggest loan application amount in each county? (answer for top 10 counties).\n"
   ]
  },
  {
   "cell_type": "code",
   "execution_count": 13,
   "id": "e4649a90-733b-4c88-a5d8-b8d7d89bed2b",
   "metadata": {
    "tags": []
   },
   "outputs": [
    {
     "name": "stderr",
     "output_type": "stream",
     "text": [
      "                                                                                \r"
     ]
    },
    {
     "data": {
      "image/png": "[encoded data removed]",
      "text/plain": [
       "<Figure size 1000x600 with 1 Axes>"
      ]
     },
     "metadata": {},
     "output_type": "display_data"
    }
   ],
   "source": [
    "from pyspark.sql.window import Window\n",
    "import matplotlib.pyplot as plt\n",
    "import matplotlib.ticker as mtick\n",
    "\n",
    "# Get second ranked loans in table\n",
    "second_ranked_loans = loans_with_county_name.select(\"NAME\", \"loan_amount\") \\\n",
    "    .groupBy(\"NAME\") \\\n",
    "    .agg(max(\"loan_amount\").alias(\"max_loan_amount\")) \\\n",
    "    .withColumnRenamed(\"NAME\", \"county_name\") \\\n",
    "    .join(loans_with_county_name.select(\"county_code\", \"NAME\", \"loan_amount\").withColumnRenamed(\"NAME\", \"county_name\"), on=\"county_name\", how=\"left\") \\\n",
    "    .filter(col(\"loan_amount\") < col(\"max_loan_amount\")) \\\n",
    "    .groupBy(\"county_name\") \\\n",
    "    .agg(max(\"loan_amount\").alias(\"second_highest_loan_amount\"))\n",
    "\n",
    "top_10_counties = second_ranked_loans.orderBy(desc(\"second_highest_loan_amount\")).limit(10).toPandas()\n",
    "\n",
    "# Plotting\n",
    "fig, ax = plt.subplots(figsize=(10, 6))\n",
    "top_10_counties[\"second_highest_loan_amount\"] = top_10_counties[\"second_highest_loan_amount\"].div(1e6)\n",
    "ax.bar(x = top_10_counties[\"county_name\"], height = top_10_counties[\"second_highest_loan_amount\"], color=\"blue\")\n",
    "ax.yaxis.set_major_formatter(plt.FuncFormatter(lambda x, _: f\"{x:.0f}M\")) # Inspired by https://stackoverflow.com/questions/25119193/matplotlib-pyplot-axes-formatter\n",
    "ax.set_xticklabels(top_10_counties[\"county_name\"], rotation = 45, ha = \"right\")\n",
    "ax.set_xlabel(\"County Name\")\n",
    "ax.set_ylabel(\"Second Highest Loan Application (Millions)\")\n",
    "plt.show()"
   ]
  },
  {
   "cell_type": "markdown",
   "id": "3a07ee58-0418-4838-b5fa-7613b6ceda48",
   "metadata": {},
   "source": [
    "# Part 4: Caching"
   ]
  },
  {
   "cell_type": "code",
   "execution_count": 14,
   "id": "9dab406a-d458-4890-9bfe-81f33aee644c",
   "metadata": {},
   "outputs": [],
   "source": [
    "warnings.filterwarnings(\"default\")\n",
    "df = banks.join(loans, banks.lei_2020 == loans.lei).select(col(\"interest_rate\")) \\\n",
    "         .filter(col(\"respondent_name\") == \"Wells Fargo Bank, National Association\")"
   ]
  },
  {
   "cell_type": "markdown",
   "id": "a2d1b448-bcdf-4ff0-8509-d989b26d36c0",
   "metadata": {
    "tags": []
   },
   "source": [
    "### Q9: what is the cost of caching and the impact on subsequent queries?\n"
   ]
  },
  {
   "cell_type": "code",
   "execution_count": 15,
   "id": "d98b654d-65dd-4ad5-ae89-ad362ea82cb2",
   "metadata": {},
   "outputs": [
    {
     "name": "stderr",
     "output_type": "stream",
     "text": [
      "                                                                                \r"
     ]
    },
    {
     "data": {
      "image/png": "[encoded data removed]",
      "text/plain": [
       "<Figure size 640x480 with 1 Axes>"
      ]
     },
     "metadata": {},
     "output_type": "display_data"
    }
   ],
   "source": [
    "import time\n",
    "\n",
    "uncached_latency = []\n",
    "cached_latency = []\n",
    "\n",
    "# loop over 10 queries\n",
    "for i in range(1, 11):\n",
    "    start_time = time.time()\n",
    "    count = df.count()\n",
    "    end_time = time.time()\n",
    "    latency = (end_time - start_time) * 1000\n",
    "    \n",
    "    if i < 5:\n",
    "        uncached_latency.append(latency)\n",
    "    else:\n",
    "        cached_latency.append(latency)\n",
    "        \n",
    "    # cache df after 4th query\n",
    "    if i == 4:\n",
    "        df.cache()\n",
    "\n",
    "# Plotting\n",
    "plt.plot(range(1, 5), uncached_latency, label=\"Uncached\")\n",
    "plt.plot(range(5, 11), cached_latency, label=\"Cached\")\n",
    "plt.xlabel(\"Query Number\")\n",
    "plt.ylabel(\"Latency (ms)\")\n",
    "plt.title(\"Query Latency with and without Caching\")\n",
    "plt.legend()\n",
    "plt.show()"
   ]
  },
  {
   "cell_type": "markdown",
   "id": "1f127c36-3e04-45f0-ba99-c5d99ff1732f",
   "metadata": {},
   "source": [
    "### Q10: what is the impact of caching a single partition on load balance?\n"
   ]
  },
  {
   "cell_type": "code",
   "execution_count": 17,
   "id": "cbc111e9-6f51-406e-a69f-786161d29e3c",
   "metadata": {
    "tags": []
   },
   "outputs": [
    {
     "data": {
      "image/png": "[encoded data removed]",
      "text/plain": [
       "<Figure size 640x480 with 1 Axes>"
      ]
     },
     "metadata": {},
     "output_type": "display_data"
    }
   ],
   "source": [
    "import requests\n",
    "import json\n",
    "\n",
    "# Get app id\n",
    "app_id = requests.get(\"http://localhost:4040/api/v1/applications\").json()[0]['id']\n",
    "\n",
    "# Give DataFrame 1 partition and cache it\n",
    "df = df.repartition(1).cache()\n",
    "\n",
    "# Initialize lists for the task counts\n",
    "executor1 = []\n",
    "executor2 = []\n",
    "\n",
    "# Loop over 10 queries, get counts\n",
    "for i in range(10):\n",
    "    count = df.count()\n",
    "    metrics_url = f\"http://localhost:4040/api/v1/applications/{app_id}/executors\"\n",
    "    response = requests.get(metrics_url)\n",
    "    data = json.loads(response.content.decode('utf-8'))\n",
    "    for executor in data:\n",
    "        if executor['id'] == '0':\n",
    "            executor1.append(executor['completedTasks'])\n",
    "            \n",
    "        elif executor['id'] == '1':\n",
    "            executor2.append(executor['completedTasks'])\n",
    "\n",
    "# Plotting\n",
    "fig, ax = plt.subplots()\n",
    "ax.plot(executor1, label = \"Executer 1\")\n",
    "ax.plot(executor2, label = \"Executer 2\")\n",
    "ax.legend()\n",
    "ax.set_xlabel('Query Number')\n",
    "ax.set_ylabel('Task Count')\n",
    "plt.show()"
   ]
  },
  {
   "cell_type": "code",
   "execution_count": null,
   "id": "34fbad44-73b6-43dd-ae5f-a1697172f557",
   "metadata": {},
   "outputs": [],
   "source": []
  }
 ],
 "metadata": {
  "kernelspec": {
   "display_name": "Python 3 (ipykernel)",
   "language": "python",
   "name": "python3"
  },
  "language_info": {
   "codemirror_mode": {
    "name": "ipython",
    "version": 3
   },
   "file_extension": ".py",
   "mimetype": "text/x-python",
   "name": "python",
   "nbconvert_exporter": "python",
   "pygments_lexer": "ipython3",
   "version": "3.10.6"
  }
 },
 "nbformat": 4,
 "nbformat_minor": 5
}
