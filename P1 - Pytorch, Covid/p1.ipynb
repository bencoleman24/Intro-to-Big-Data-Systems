{
 "cells": [
  {
   "cell_type": "markdown",
   "id": "18f68752",
   "metadata": {},
   "source": [
    "# Part 1: Prediction with Hardcoded Model"
   ]
  },
  {
   "cell_type": "code",
   "execution_count": 1,
   "id": "10a85eb0",
   "metadata": {},
   "outputs": [],
   "source": [
    "import pandas as pd\n",
    "import torch\n",
    "import matplotlib.pyplot as plt\n",
    "from torch.utils.data import TensorDataset, DataLoader\n",
    "import time"
   ]
  },
  {
   "cell_type": "code",
   "execution_count": 2,
   "id": "8a8a9313",
   "metadata": {},
   "outputs": [],
   "source": [
    "train = pd.read_csv(\"train.csv\")\n",
    "test = pd.read_csv(\"test.csv\")"
   ]
  },
  {
   "cell_type": "code",
   "execution_count": 3,
   "id": "1f9f582b",
   "metadata": {},
   "outputs": [],
   "source": [
    "trainX = torch.tensor(train.loc[:, train.columns != 'DTH_CUM_CP'].values, dtype = torch.float64)\n",
    "trainY = torch.tensor(train.loc[:, train.columns == \"DTH_CUM_CP\"].values, dtype = torch.float64)\n",
    "testX = torch.tensor(test.loc[:, test.columns != 'DTH_CUM_CP'].values, dtype = torch.float64)\n",
    "testY = torch.tensor(test.loc[:, test.columns == \"DTH_CUM_CP\"].values, dtype = torch.float64)"
   ]
  },
  {
   "cell_type": "code",
   "execution_count": 4,
   "id": "95be86b3",
   "metadata": {},
   "outputs": [],
   "source": [
    "coef = torch.tensor([\n",
    "        [0.0040],\n",
    "        [0.0040],\n",
    "        [0.0040],\n",
    "        [0.0040],\n",
    "        [0.0040],\n",
    "        [0.0040], # POS_50_59_CP\n",
    "        [0.0300], # POS_60_69_CP\n",
    "        [0.0300],\n",
    "        [0.0300],\n",
    "        [0.0300]\n",
    "], dtype=testX.dtype)"
   ]
  },
  {
   "cell_type": "code",
   "execution_count": 5,
   "id": "3c9b0dcb",
   "metadata": {},
   "outputs": [
    {
     "name": "stdout",
     "output_type": "stream",
     "text": [
      "Predictions for first row: 9.844\n"
     ]
    }
   ],
   "source": [
    "if torch.cuda.is_available():\n",
    "    trainX = trainX.to(\"cuda\")\n",
    "    trainY = trainY.to(\"cuda\")\n",
    "    testX = testX.to(\"cuda\")\n",
    "    testY = testY.to(\"cuda\")\n",
    "    coef = coef.to(\"cuda\")\n",
    "    \n",
    "pred = (testX[0] @ coef)[0]\n",
    "print(\"Predictions for first row: \" + str(pred.item()))\n"
   ]
  },
  {
   "cell_type": "markdown",
   "id": "5ae59ecc",
   "metadata": {},
   "source": [
    "# Part 2: R^2 Score"
   ]
  },
  {
   "cell_type": "code",
   "execution_count": 6,
   "id": "e8d72c1f",
   "metadata": {},
   "outputs": [],
   "source": [
    "def r2_score(testY, predictedY):\n",
    "    meantesty = testY.mean().item()\n",
    "    #SStot\n",
    "    dif = testY - meantesty\n",
    "    dif_2 = dif ** 2\n",
    "    SStot = dif_2.sum().item()\n",
    "    #SSreg\n",
    "    difssreg = testY - predictedY\n",
    "    dif_2ssreg = difssreg ** 2\n",
    "    SSreg = dif_2ssreg.sum().item()\n",
    "    \n",
    "    improvement = SStot - SSreg\n",
    "    R_2 = improvement/SStot\n",
    "    return R_2\n"
   ]
  },
  {
   "cell_type": "code",
   "execution_count": 7,
   "id": "9422b3aa",
   "metadata": {},
   "outputs": [
    {
     "name": "stdout",
     "output_type": "stream",
     "text": [
      "R-Squared Score: 0.41103503288417204\n"
     ]
    }
   ],
   "source": [
    "predictedY = testX @ coef\n",
    "print(\"R-Squared Score: \" + str(r2_score(testY, predictedY)))\n"
   ]
  },
  {
   "cell_type": "markdown",
   "id": "8d1a6e13",
   "metadata": {},
   "source": [
    "# Part 3: Optimization"
   ]
  },
  {
   "cell_type": "code",
   "execution_count": 8,
   "id": "133d3270",
   "metadata": {},
   "outputs": [
    {
     "name": "stdout",
     "output_type": "stream",
     "text": [
      "tensor(0.8000, requires_grad=True) tensor(19., grad_fn=<AddBackward0>)\n",
      "tensor(1.4400, requires_grad=True) tensor(13.2400, grad_fn=<AddBackward0>)\n",
      "tensor(1.9520, requires_grad=True) tensor(9.5536, grad_fn=<AddBackward0>)\n",
      "tensor(2.3616, requires_grad=True) tensor(7.1943, grad_fn=<AddBackward0>)\n",
      "tensor(2.6893, requires_grad=True) tensor(5.6844, grad_fn=<AddBackward0>)\n",
      "tensor(2.9514, requires_grad=True) tensor(4.7180, grad_fn=<AddBackward0>)\n",
      "tensor(3.1611, requires_grad=True) tensor(4.0995, grad_fn=<AddBackward0>)\n",
      "tensor(3.3289, requires_grad=True) tensor(3.7037, grad_fn=<AddBackward0>)\n",
      "tensor(3.4631, requires_grad=True) tensor(3.4504, grad_fn=<AddBackward0>)\n",
      "tensor(3.5705, requires_grad=True) tensor(3.2882, grad_fn=<AddBackward0>)\n",
      "tensor(3.6564, requires_grad=True) tensor(3.1845, grad_fn=<AddBackward0>)\n",
      "tensor(3.7251, requires_grad=True) tensor(3.1181, grad_fn=<AddBackward0>)\n",
      "tensor(3.7801, requires_grad=True) tensor(3.0756, grad_fn=<AddBackward0>)\n",
      "tensor(3.8241, requires_grad=True) tensor(3.0484, grad_fn=<AddBackward0>)\n",
      "tensor(3.8593, requires_grad=True) tensor(3.0309, grad_fn=<AddBackward0>)\n",
      "tensor(3.8874, requires_grad=True) tensor(3.0198, grad_fn=<AddBackward0>)\n",
      "tensor(3.9099, requires_grad=True) tensor(3.0127, grad_fn=<AddBackward0>)\n",
      "tensor(3.9279, requires_grad=True) tensor(3.0081, grad_fn=<AddBackward0>)\n",
      "tensor(3.9424, requires_grad=True) tensor(3.0052, grad_fn=<AddBackward0>)\n",
      "tensor(3.9539, requires_grad=True) tensor(3.0033, grad_fn=<AddBackward0>)\n",
      "tensor(3.9631, requires_grad=True) tensor(3.0021, grad_fn=<AddBackward0>)\n",
      "tensor(3.9705, requires_grad=True) tensor(3.0014, grad_fn=<AddBackward0>)\n",
      "tensor(3.9764, requires_grad=True) tensor(3.0009, grad_fn=<AddBackward0>)\n",
      "tensor(3.9811, requires_grad=True) tensor(3.0006, grad_fn=<AddBackward0>)\n",
      "tensor(3.9849, requires_grad=True) tensor(3.0004, grad_fn=<AddBackward0>)\n",
      "tensor(3.9879, requires_grad=True) tensor(3.0002, grad_fn=<AddBackward0>)\n",
      "tensor(3.9903, requires_grad=True) tensor(3.0001, grad_fn=<AddBackward0>)\n",
      "tensor(3.9923, requires_grad=True) tensor(3.0001, grad_fn=<AddBackward0>)\n",
      "tensor(3.9938, requires_grad=True) tensor(3.0001, grad_fn=<AddBackward0>)\n",
      "tensor(3.9950, requires_grad=True) tensor(3.0000, grad_fn=<AddBackward0>)\n"
     ]
    }
   ],
   "source": [
    "x = torch.tensor(0.0, requires_grad=True)\n",
    "y = x**2 - 8*x + 19\n",
    "\n",
    "optimizer = torch.optim.SGD([x], lr=0.1)\n",
    "x_values = []\n",
    "y_values = []\n",
    "\n",
    "for i in range(30):\n",
    "    optimizer.zero_grad()\n",
    "    y = x**2 - 8*x + 19\n",
    "    y.backward()\n",
    "    optimizer.step()\n",
    "    print(x, y)\n",
    "    x_values.append(x.item())\n",
    "    y_values.append(y.item())\n",
    "\n",
    "\n",
    "optimized_x = x.item()"
   ]
  },
  {
   "cell_type": "code",
   "execution_count": 9,
   "id": "8e1c8903",
   "metadata": {},
   "outputs": [
    {
     "name": "stdout",
     "output_type": "stream",
     "text": [
      "Optimized x: 3.9950480461120605\n"
     ]
    }
   ],
   "source": [
    "print(\"Optimized x: \" + str(optimized_x))"
   ]
  },
  {
   "cell_type": "code",
   "execution_count": 10,
   "id": "d379fcea",
   "metadata": {},
   "outputs": [
    {
     "data": {
      "image/png": "[encoded data removed]",
      "text/plain": [
       "<Figure size 640x480 with 1 Axes>"
      ]
     },
     "metadata": {},
     "output_type": "display_data"
    }
   ],
   "source": [
    "plt.plot(x_values,y_values)\n",
    "plt.xlabel(\"X\")\n",
    "plt.ylabel(\"Y\")\n",
    "plt.title(\"Optimization Visualization\")\n",
    "plt.show()"
   ]
  },
  {
   "cell_type": "markdown",
   "id": "04786e3e",
   "metadata": {},
   "source": [
    "# Part 4: Linear Regression"
   ]
  },
  {
   "cell_type": "code",
   "execution_count": 11,
   "id": "c7a606bf",
   "metadata": {},
   "outputs": [],
   "source": [
    "train_data = TensorDataset(trainX, trainY)\n",
    "data_loader = DataLoader(train_data, shuffle = True, batch_size = 30)"
   ]
  },
  {
   "cell_type": "code",
   "execution_count": 12,
   "id": "c5fcdfd0",
   "metadata": {},
   "outputs": [
    {
     "name": "stdout",
     "output_type": "stream",
     "text": [
      "Training Time: 1.696190357208252\n",
      "R-Squared: 0.5570555750575804\n"
     ]
    }
   ],
   "source": [
    "input = trainX.shape[1]\n",
    "output = trainY.shape[1]\n",
    "loss_fn = torch.nn.MSELoss()\n",
    "model = torch.nn.Linear(input, output, dtype = torch.float64)\n",
    "optimizer = torch.optim.SGD([model.weight, model.bias], lr=0.000001)\n",
    "\n",
    "start = time.time()\n",
    "for epoch in range(100):\n",
    "    for x, y in data_loader:\n",
    "        prediction = model(x)\n",
    "        loss = loss_fn(y, prediction)\n",
    "        loss.backward()\n",
    "        optimizer.step()\n",
    "        optimizer.zero_grad()\n",
    "duration = time.time() - start\n",
    "\n",
    "coef = model.weight.clone().detach().unsqueeze(-1)\n",
    "predictions = testX @ coef\n",
    "print(\"Training Time: \"+ str(duration))\n",
    "print(\"R-Squared: \" + str(r2_score(testY, predictions)))\n",
    "    "
   ]
  },
  {
   "cell_type": "code",
   "execution_count": 13,
   "id": "8fbf354c",
   "metadata": {},
   "outputs": [
    {
     "data": {
      "image/png": "[encoded data removed]",
      "text/plain": [
       "<Figure size 640x480 with 1 Axes>"
      ]
     },
     "metadata": {},
     "output_type": "display_data"
    }
   ],
   "source": [
    "columns = train.columns.to_list()[:-1]\n",
    "weights = model.weight.tolist()[0]\n",
    "plt.bar(columns, weights)\n",
    "plt.xticks(rotation = 90)\n",
    "plt.xlabel(\"Column\")\n",
    "plt.ylabel(\"Coefficient\")\n",
    "plt.show()"
   ]
  }
 ],
 "metadata": {
  "kernelspec": {
   "display_name": "Python 3",
   "language": "python",
   "name": "python3"
  },
  "language_info": {
   "codemirror_mode": {
    "name": "ipython",
    "version": 3
   },
   "file_extension": ".py",
   "mimetype": "text/x-python",
   "name": "python",
   "nbconvert_exporter": "python",
   "pygments_lexer": "ipython3",
   "version": "3.10.6"
  },
  "vscode": {
   "interpreter": {
    "hash": "916dbcbb3f70747c44a77c7bcd40155683ae19c65e1c03b4aa3499c5328201f1"
   }
  }
 },
 "nbformat": 4,
 "nbformat_minor": 5
}
