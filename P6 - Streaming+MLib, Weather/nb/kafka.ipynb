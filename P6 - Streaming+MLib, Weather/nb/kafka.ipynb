{
 "cells": [
  {
   "cell_type": "markdown",
   "id": "0680a82e-f970-4e34-86aa-1b21b13c4336",
   "metadata": {
    "tags": []
   },
   "source": [
    "# Part 1: Kafka Producer"
   ]
  },
  {
   "cell_type": "code",
   "execution_count": 1,
   "id": "40729ae7-5892-4ce5-a493-cde17dc60edd",
   "metadata": {},
   "outputs": [],
   "source": [
    "import os\n",
    "from kafka import KafkaAdminClient, KafkaProducer, KafkaConsumer, TopicPartition\n",
    "from kafka.admin import NewTopic\n",
    "from kafka.errors import TopicAlreadyExistsError, UnknownTopicOrPartitionError\n",
    "\n",
    "os.environ[\"PROTOCOL_BUFFERS_PYTHON_IMPLEMENTATION\"] = \"python\""
   ]
  },
  {
   "cell_type": "code",
   "execution_count": 2,
   "id": "8ba2b76e-5450-406e-9343-0bd83e281892",
   "metadata": {},
   "outputs": [],
   "source": [
    "import datetime, time, random, string\n",
    "\n",
    "def one_station(name):\n",
    "    # temp pattern\n",
    "    month_avg = [27,31,44,58,70,79,83,81,74,61,46,32]\n",
    "    shift = (random.random()-0.5) * 30\n",
    "    month_avg = [m + shift + (random.random()-0.5) * 5 for m in month_avg]\n",
    "    \n",
    "    # rain pattern\n",
    "    start_rain = [0.1,0.1,0.3,0.5,0.4,0.2,0.2,0.1,0.2,0.2,0.2,0.1]\n",
    "    shift = (random.random()-0.5) * 0.1\n",
    "    start_rain = [r + shift + (random.random() - 0.5) * 0.2 for r in start_rain]\n",
    "    stop_rain = 0.2 + random.random() * 0.2\n",
    "\n",
    "    # day's state\n",
    "    today = datetime.date(2000, 1, 1)\n",
    "    temp = month_avg[0]\n",
    "    raining = False\n",
    "    \n",
    "    # gen weather\n",
    "    while True:\n",
    "        # choose temp+rain\n",
    "        month = today.month - 1\n",
    "        temp = temp * 0.8 + month_avg[month] * 0.2 + (random.random()-0.5) * 20\n",
    "        if temp < 32:\n",
    "            raining=False\n",
    "        elif raining and random.random() < stop_rain:\n",
    "            raining = False\n",
    "        elif not raining and random.random() < start_rain[month]:\n",
    "            raining = True\n",
    "\n",
    "        yield (today.strftime(\"%Y-%m-%d\"), name, temp, raining)\n",
    "\n",
    "        # next day\n",
    "        today += datetime.timedelta(days=1)\n",
    "        \n",
    "def all_stations(count=10, sleep_sec=1):\n",
    "    assert count <= 26\n",
    "    stations = []\n",
    "    for name in string.ascii_uppercase[:count]:\n",
    "        stations.append(one_station(name))\n",
    "    while True:\n",
    "        for station in stations:\n",
    "            yield next(station)\n",
    "        time.sleep(sleep_sec)"
   ]
  },
  {
   "cell_type": "code",
   "execution_count": 3,
   "id": "5bbc7ac5-7f0e-4f68-af0c-66b3cca2922f",
   "metadata": {
    "tags": []
   },
   "outputs": [
    {
     "name": "stdout",
     "output_type": "stream",
     "text": [
      "deleted\n"
     ]
    },
    {
     "data": {
      "text/plain": [
       "['stations-json', 'stations', '__consumer_offsets']"
      ]
     },
     "execution_count": 3,
     "metadata": {},
     "output_type": "execute_result"
    }
   ],
   "source": [
    "admin = KafkaAdminClient(bootstrap_servers=[\"kafka:9092\"])\n",
    "try:\n",
    "    admin.delete_topics([\"stations\", \"stations-json\"])\n",
    "    print(\"deleted\")\n",
    "except UnknownTopicOrPartitionError:\n",
    "    print(\"cannot delete (may not exist yet)\")\n",
    "\n",
    "time.sleep(1)\n",
    "admin.create_topics([NewTopic(\"stations\", 6, 1)])\n",
    "admin.create_topics([NewTopic(\"stations-json\", 6, 1)])\n",
    "admin.list_topics()"
   ]
  },
  {
   "cell_type": "code",
   "execution_count": 4,
   "id": "dac0b066-8905-4c1c-8be3-9480865bf2c7",
   "metadata": {},
   "outputs": [],
   "source": [
    "import weather_pb2\n",
    "from kafka import KafkaAdminClient, KafkaProducer\n",
    "import threading\n",
    "import json\n",
    "import random\n",
    "\n",
    "def produce():\n",
    "    producer = KafkaProducer(bootstrap_servers=[\"kafka:9092\"], retries=10, acks=\"all\")\n",
    "\n",
    "    for date, station, degrees, raining in all_stations(15):\n",
    "        report = weather_pb2.Report(\n",
    "            date = date, station = station, degrees = degrees, raining = raining\n",
    "        )\n",
    "        serialized_report = report.SerializeToString()\n",
    "\n",
    "        # Serialize the JSON data\n",
    "        json_data = json.dumps({\n",
    "            \"date\": date,\n",
    "            \"station\": station,\n",
    "            \"degrees\": degrees,\n",
    "            \"raining\": 1 if raining else 0\n",
    "        }).encode(\"utf-8\")\n",
    "\n",
    "        # Send the data to the respective Kafka topics\n",
    "        producer.send(\"stations\", key = station.encode(\"utf-8\"), value = serialized_report)\n",
    "        producer.send(\"stations-json\", key = station.encode(\"utf-8\"), value = json_data)\n",
    "\n",
    "producer_thread = threading.Thread(target=produce)\n",
    "producer_thread.start()"
   ]
  },
  {
   "cell_type": "markdown",
   "id": "88e6e138-22ac-4030-ac50-c84f294bfa89",
   "metadata": {},
   "source": [
    "# Part 2: Kafka Consumer"
   ]
  },
  {
   "cell_type": "code",
   "execution_count": 5,
   "id": "54c89f25-9a95-4039-bfa5-8ca9f803a2bc",
   "metadata": {},
   "outputs": [],
   "source": [
    "import os, json\n",
    "\n",
    "for partition in range(6):\n",
    "    path = f\"partition-{partition}.json\"\n",
    "    if os.path.exists(path):\n",
    "        os.remove(path)"
   ]
  },
  {
   "cell_type": "code",
   "execution_count": 6,
   "id": "035ae99f-62c0-4f46-a372-3fdf3607097f",
   "metadata": {},
   "outputs": [],
   "source": [
    "def load_partition(partition_num):\n",
    "    path = f\"partition-{partition_num}.json\"\n",
    "    if os.path.exists(path):\n",
    "        with open(path, \"r\") as file:\n",
    "            return json.load(file)\n",
    "    else:\n",
    "        return {\n",
    "            \"partition\": partition_num,\n",
    "            \"offset\": 0,\n",
    "            \"stations\": {}\n",
    "        }\n",
    "def save_partition(partition):\n",
    "    path = f\"partition-{partition['partition']}.json\"\n",
    "    with open(path, \"w\") as file:\n",
    "        json.dump(partition, file)"
   ]
  },
  {
   "cell_type": "code",
   "execution_count": 7,
   "id": "1aa3a2d6-6684-45ee-a9f5-194b71648f21",
   "metadata": {},
   "outputs": [
    {
     "name": "stdout",
     "output_type": "stream",
     "text": [
      "ROUND 0\n",
      "exiting\n",
      "exiting\n",
      "exiting\n",
      "ROUND 1\n",
      "exiting\n",
      "exiting\n",
      "exiting\n"
     ]
    }
   ],
   "source": [
    "def consume(part_nums=[], iterations=10):\n",
    "    consumer = KafkaConsumer(bootstrap_servers=[\"kafka:9092\"])\n",
    "    partitions = [TopicPartition(\"stations\", p) for p in part_nums]\n",
    "    consumer.assign(partitions)\n",
    "\n",
    "    # PART 1: initialization\n",
    "    partitions = {}\n",
    "    for partition_num in part_nums:\n",
    "        partition = load_partition(partition_num)\n",
    "        partitions[partition_num] = partition\n",
    "        offset = partition[\"offset\"]\n",
    "        consumer.seek(TopicPartition(\"stations\", partition_num), offset)\n",
    "\n",
    "    # PART 2: process batches\n",
    "    for i in range(iterations):\n",
    "        batch = consumer.poll(1000)\n",
    "        for messages in batch.values():\n",
    "            for message in messages:\n",
    "                report = weather_pb2.Report()\n",
    "                report.ParseFromString(message.value)\n",
    "                partition = partitions[message.partition]\n",
    "                station = report.station\n",
    "\n",
    "                stations = partition[\"stations\"]\n",
    "                if station not in stations:\n",
    "                    stations[station] = {\n",
    "                        \"sum\": report.degrees,\n",
    "                        \"count\": 1,\n",
    "                        \"avg\": report.degrees,\n",
    "                        \"start\": report.date,\n",
    "                        \"end\": report.date\n",
    "                    }\n",
    "\n",
    "                if report.date > stations[station][\"end\"]:\n",
    "                    stations[station][\"sum\"] += report.degrees\n",
    "                    stations[station][\"count\"] += 1\n",
    "                    stations[station][\"avg\"] = stations[station][\"sum\"] / stations[station][\"count\"]\n",
    "                    stations[station][\"end\"] = report.date\n",
    "                \n",
    "                partition[\"offset\"] = message.offset + 1\n",
    "                save_partition(partition)\n",
    "    print(\"exiting\")\n",
    "\n",
    "for i in range(2):\n",
    "    print(\"ROUND\", i)\n",
    "    t1 = threading.Thread(target=consume, args=([0,1], 30))\n",
    "    t2 = threading.Thread(target=consume, args=([2,3], 30))\n",
    "    t3 = threading.Thread(target=consume, args=([4,5], 30))\n",
    "    t1.start()\n",
    "    t2.start()\n",
    "    t3.start()\n",
    "    t1.join()\n",
    "    t2.join()\n",
    "    t3.join()\n"
   ]
  },
  {
   "cell_type": "code",
   "execution_count": 8,
   "id": "9734cb05-8a8d-48a5-9a65-4d4fde398ac1",
   "metadata": {},
   "outputs": [
    {
     "name": "stdout",
     "output_type": "stream",
     "text": [
      "{\"partition\": 0, \"offset\": 51, \"stations\": {\"N\": {\"sum\": 1907.0000481762952, \"count\": 51, \"avg\": 37.39215780737834, \"start\": \"2000-01-01\", \"end\": \"2000-02-20\"}}}{\"partition\": 1, \"offset\": 102, \"stations\": {\"E\": {\"sum\": 1052.364224888139, \"count\": 51, \"avg\": 20.63459264486547, \"start\": \"2000-01-01\", \"end\": \"2000-02-20\"}, \"O\": {\"sum\": 1809.8934323964365, \"count\": 51, \"avg\": 35.48810651757719, \"start\": \"2000-01-01\", \"end\": \"2000-02-20\"}}}{\"partition\": 2, \"offset\": 174, \"stations\": {\"F\": {\"sum\": 1669.36521184176, \"count\": 58, \"avg\": 28.78215882485793, \"start\": \"2000-01-01\", \"end\": \"2000-02-27\"}, \"I\": {\"sum\": 2445.689321747112, \"count\": 58, \"avg\": 42.16705727150193, \"start\": \"2000-01-01\", \"end\": \"2000-02-27\"}, \"J\": {\"sum\": 2909.9734211451746, \"count\": 58, \"avg\": 50.17195553698577, \"start\": \"2000-01-01\", \"end\": \"2000-02-27\"}}}{\"partition\": 3, \"offset\": 174, \"stations\": {\"D\": {\"sum\": 1652.0992905319451, \"count\": 58, \"avg\": 28.484470526412846, \"start\": \"2000-01-01\", \"end\": \"2000-02-27\"}, \"G\": {\"sum\": 971.5487020735771, \"count\": 58, \"avg\": 16.750839690923744, \"start\": \"2000-01-01\", \"end\": \"2000-02-27\"}, \"M\": {\"sum\": 632.6876715707155, \"count\": 58, \"avg\": 10.908408130529576, \"start\": \"2000-01-01\", \"end\": \"2000-02-27\"}}}{\"partition\": 4, \"offset\": 290, \"stations\": {\"A\": {\"sum\": 2111.7771386285513, \"count\": 58, \"avg\": 36.40995066600951, \"start\": \"2000-01-01\", \"end\": \"2000-02-27\"}, \"B\": {\"sum\": 2305.8002482604443, \"count\": 58, \"avg\": 39.75517669414559, \"start\": \"2000-01-01\", \"end\": \"2000-02-27\"}, \"C\": {\"sum\": 1480.8529384016167, \"count\": 58, \"avg\": 25.531947213820978, \"start\": \"2000-01-01\", \"end\": \"2000-02-27\"}, \"K\": {\"sum\": 1663.6164272188985, \"count\": 58, \"avg\": 28.683041848601697, \"start\": \"2000-01-01\", \"end\": \"2000-02-27\"}, \"L\": {\"sum\": 1847.2799930258352, \"count\": 58, \"avg\": 31.849655052169574, \"start\": \"2000-01-01\", \"end\": \"2000-02-27\"}}}{\"partition\": 5, \"offset\": 58, \"stations\": {\"H\": {\"sum\": 1619.8528681082605, \"count\": 58, \"avg\": 27.92849772600449, \"start\": \"2000-01-01\", \"end\": \"2000-02-27\"}}}"
     ]
    }
   ],
   "source": [
    "!cat partition*.json"
   ]
  }
 ],
 "metadata": {
  "kernelspec": {
   "display_name": "Python 3 (ipykernel)",
   "language": "python",
   "name": "python3"
  },
  "language_info": {
   "codemirror_mode": {
    "name": "ipython",
    "version": 3
   },
   "file_extension": ".py",
   "mimetype": "text/x-python",
   "name": "python",
   "nbconvert_exporter": "python",
   "pygments_lexer": "ipython3",
   "version": "3.10.6"
  }
 },
 "nbformat": 4,
 "nbformat_minor": 5
}
