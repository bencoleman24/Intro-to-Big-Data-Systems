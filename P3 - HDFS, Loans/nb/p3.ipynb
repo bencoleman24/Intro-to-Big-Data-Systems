{
 "cells": [
  {
   "cell_type": "markdown",
   "id": "f6eaa641-ba3b-41f9-8270-9d87cadf2a74",
   "metadata": {},
   "source": [
    "## Part 1"
   ]
  },
  {
   "cell_type": "code",
   "execution_count": 1,
   "id": "0aba8111-c692-4953-9f86-b2362b841538",
   "metadata": {
    "tags": []
   },
   "outputs": [
    {
     "name": "stdout",
     "output_type": "stream",
     "text": [
      "--2023-03-24 00:48:04--  https://pages.cs.wisc.edu/~harter/cs639/data/hdma-wi-2021.csv\n",
      "Resolving pages.cs.wisc.edu (pages.cs.wisc.edu)... 128.105.7.9\n",
      "Connecting to pages.cs.wisc.edu (pages.cs.wisc.edu)|128.105.7.9|:443... connected.\n",
      "HTTP request sent, awaiting response... 200 OK\n",
      "Length: 174944099 (167M) [text/csv]\n",
      "Saving to: ‘hdma-wi-2021.csv.1’\n",
      "\n",
      "hdma-wi-2021.csv.1  100%[===================>] 166.84M  18.8MB/s    in 9.3s    \n",
      "\n",
      "2023-03-24 00:48:13 (18.0 MB/s) - ‘hdma-wi-2021.csv.1’ saved [174944099/174944099]\n",
      "\n"
     ]
    }
   ],
   "source": [
    "!wget https://pages.cs.wisc.edu/~harter/cs639/data/hdma-wi-2021.csv"
   ]
  },
  {
   "cell_type": "code",
   "execution_count": 2,
   "id": "70589df7-4fd0-43ed-b797-38df78048fbe",
   "metadata": {},
   "outputs": [],
   "source": [
    "!hdfs dfs -D dfs.block.size=1048576 -D dfs.replication=1 -put hdma-wi-2021.csv hdfs://main:9000/single.csv\n",
    "!hdfs dfs -D dfs.block.size=1048576 -D dfs.replication=2 -put hdma-wi-2021.csv hdfs://main:9000/double.csv"
   ]
  },
  {
   "cell_type": "code",
   "execution_count": 3,
   "id": "92843951-9bd2-40b1-81ff-2a611c1bed6d",
   "metadata": {},
   "outputs": [
    {
     "name": "stdout",
     "output_type": "stream",
     "text": [
      "166.8 M  333.7 M  hdfs://main:9000/double.csv\n",
      "166.8 M  166.8 M  hdfs://main:9000/single.csv\n"
     ]
    }
   ],
   "source": [
    "!hdfs dfs -du -h hdfs://main:9000/"
   ]
  },
  {
   "cell_type": "markdown",
   "id": "7abf517d-6cbc-43a6-a065-2288d52976c2",
   "metadata": {},
   "source": [
    "## Part 2"
   ]
  },
  {
   "cell_type": "code",
   "execution_count": 4,
   "id": "62c224b2-1320-4486-aad5-9be9eb40881a",
   "metadata": {},
   "outputs": [
    {
     "name": "stdout",
     "output_type": "stream",
     "text": [
      "{'7d3db3a79dc4:9864': 80, '2990d032d772:9864': 87}\n"
     ]
    }
   ],
   "source": [
    "import requests\n",
    "import json\n",
    "\n",
    "def get_datanode(offset, node_url):\n",
    "    url = node_url + '/webhdfs/v1/single.csv?op=OPEN&offset=' + str(offset)\n",
    "    response = requests.get(url, allow_redirects=False)\n",
    "    return response.headers['Location']\n",
    "\n",
    "def get_blocks(namenode_url):\n",
    "    block_size = 1048576\n",
    "    datanodes = {}\n",
    "    block_offsets = range(0, block_size * 167, block_size)\n",
    "    for offset in block_offsets:\n",
    "        datanode_url = get_datanode(offset, namenode_url)\n",
    "        datanode = datanode_url.split('/')[2]\n",
    "        if datanode in datanodes:\n",
    "            datanodes[datanode] += 1\n",
    "        else:\n",
    "            datanodes[datanode] = 1\n",
    "    return datanodes\n",
    "\n",
    "namenode_url = 'http://main:9870'\n",
    "blocks = get_blocks(namenode_url)\n",
    "print(blocks)"
   ]
  },
  {
   "cell_type": "markdown",
   "id": "a26e5b4c-52c3-4d0f-8eec-23729ac2e308",
   "metadata": {},
   "source": [
    "## Part 3"
   ]
  },
  {
   "cell_type": "code",
   "execution_count": 5,
   "id": "24b4e924-7262-484a-a126-74b9dc7be5d8",
   "metadata": {},
   "outputs": [],
   "source": [
    "import io\n",
    "import requests\n",
    "import json\n",
    "\n",
    "class hdfsFile(io.RawIOBase):\n",
    "    def __init__(self, path):\n",
    "        self.path = path\n",
    "        self.offset = 0\n",
    "        self.length = 0\n",
    "        self.block_size = 1048576\n",
    "\n",
    "        url = f'http://main:9870/webhdfs/v1{path}?op=GETFILESTATUS'\n",
    "        response = requests.get(url)\n",
    "        data = response.json()\n",
    "        self.length = data['FileStatus']['length']\n",
    "\n",
    "        self.num_blocks = (self.length + self.block_size - 1) // self.block_size\n",
    "        self.block_offsets = range(0, self.block_size * self.num_blocks, self.block_size)\n",
    "\n",
    "    def readable(self):\n",
    "        return True\n",
    "\n",
    "    def readinto(self, b):\n",
    "        if self.offset >= self.length:\n",
    "            return 0\n",
    "\n",
    "        block_idx = self.offset // self.block_size\n",
    "        block_offset = self.offset % self.block_size\n",
    "        bufferlength=len(b)\n",
    "        remaining_bytes = self.length - self.offset\n",
    "        bytes_to_read = min(remaining_bytes, self.block_size - block_offset)\n",
    "\n",
    "        url = f'http://main:9870/webhdfs/v1{self.path}'\n",
    "        response = requests.get(url = url, params = {\"op\": \"OPEN\", \"offset\": self.offset, \"length\": bufferlength})\n",
    "        data=response.content\n",
    "\n",
    "        data_len = len(data)\n",
    "        b[:data_len] = data\n",
    "\n",
    "        self.offset += data_len\n",
    "        return data_len\n"
   ]
  },
  {
   "cell_type": "code",
   "execution_count": 6,
   "id": "c7841e72-1897-42a9-a955-658434c733d6",
   "metadata": {
    "tags": []
   },
   "outputs": [
    {
     "name": "stdout",
     "output_type": "stream",
     "text": [
      "Counts from single.csv (0.5 MB Buffer)\n",
      "Single Family: 444874\n",
      "Multi Family: 2493\n",
      "19.165616035461426 Seconds\n",
      "\n",
      "Counts from single.csv (1 MB Buffer)\n",
      "Single Family: 444874\n",
      "Multi Family: 2493\n",
      "5.896963834762573 Seconds\n",
      "\n",
      "Counts from single.csv (2 MB Buffer)\n",
      "Single Family: 444874\n",
      "Multi Family: 2493\n",
      "3.8786168098449707 Seconds\n"
     ]
    }
   ],
   "source": [
    "import time\n",
    "\n",
    "hdfs_file = hdfsFile(\"/single.csv\")\n",
    "\n",
    "single_count = 0\n",
    "multi_count = 0\n",
    "t0 = time.time()\n",
    "for line in io.BufferedReader(hdfs_file, buffer_size=int(1048576 / 2)): # 0.5MB buffer\n",
    "    line = str(line, \"utf-8\")\n",
    "    if \"Single Family\" in line:\n",
    "        single_count += 1\n",
    "    elif \"Multifamily\" in line:\n",
    "        multi_count += 1\n",
    "t1 = time.time()\n",
    "print(\"Counts from single.csv (0.5 MB Buffer)\")\n",
    "print(f\"Single Family: {single_count}\")\n",
    "print(f\"Multi Family: {multi_count}\")\n",
    "print(f\"{(t1-t0)} Seconds\")\n",
    "\n",
    "\n",
    "hdfs_file = hdfsFile(\"/single.csv\")\n",
    "single_count = 0\n",
    "multi_count = 0\n",
    "t0 = time.time()\n",
    "for line in io.BufferedReader(hdfs_file, buffer_size=1048576): # 1MB buffer\n",
    "    line = str(line, \"utf-8\")\n",
    "    if \"Single Family\" in line:\n",
    "        single_count += 1\n",
    "    elif \"Multifamily\" in line:\n",
    "        multi_count += 1\n",
    "t1 = time.time()\n",
    "print()\n",
    "print(\"Counts from single.csv (1 MB Buffer)\")\n",
    "print(f\"Single Family: {single_count}\")\n",
    "print(f\"Multi Family: {multi_count}\")\n",
    "print(f\"{(t1-t0)} Seconds\")\n",
    "\n",
    "hdfs_file = hdfsFile(\"/single.csv\")\n",
    "single_count = 0\n",
    "multi_count = 0\n",
    "t0 = time.time()\n",
    "for line in io.BufferedReader(hdfs_file, buffer_size=1048576 * 2): # 2MB buffer\n",
    "    line = str(line, \"utf-8\")\n",
    "    if \"Single Family\" in line:\n",
    "        single_count += 1\n",
    "    elif \"Multifamily\" in line:\n",
    "        multi_count += 1\n",
    "t1 = time.time()\n",
    "print()\n",
    "print(\"Counts from single.csv (2 MB Buffer)\")\n",
    "print(f\"Single Family: {single_count}\")\n",
    "print(f\"Multi Family: {multi_count}\")\n",
    "print(f\"{(t1-t0)} Seconds\")"
   ]
  },
  {
   "cell_type": "markdown",
   "id": "11273d34-8b94-4164-8665-a5a7a570a0a7",
   "metadata": {},
   "source": [
    "## Part 4"
   ]
  },
  {
   "cell_type": "code",
   "execution_count": 13,
   "id": "f49cd9c3-9b3c-4f67-8cb6-a422fb2c1c63",
   "metadata": {
    "tags": []
   },
   "outputs": [
    {
     "name": "stdout",
     "output_type": "stream",
     "text": [
      "Configured Capacity: 51642105856 (48.10 GB)\n",
      "Present Capacity: 36326984828 (33.83 GB)\n",
      "DFS Remaining: 35797991424 (33.34 GB)\n",
      "DFS Used: 528993404 (504.49 MB)\n",
      "DFS Used%: 1.46%\n",
      "Replicated Blocks:\n",
      "\tUnder replicated blocks: 0\n",
      "\tBlocks with corrupt replicas: 0\n",
      "\tMissing blocks: 0\n",
      "\tMissing blocks (with replication factor 1): 0\n",
      "\tLow redundancy blocks with highest priority to recover: 0\n",
      "\tPending deletion blocks: 0\n",
      "Erasure Coded Block Groups: \n",
      "\tLow redundancy block groups: 0\n",
      "\tBlock groups with corrupt internal blocks: 0\n",
      "\tMissing block groups: 0\n",
      "\tLow redundancy blocks with highest priority to recover: 0\n",
      "\tPending deletion blocks: 0\n",
      "\n",
      "-------------------------------------------------\n",
      "Live datanodes (1):\n",
      "\n",
      "Name: 172.20.0.4:9866 (project-3-bc-worker-1.cs544net)\n",
      "Hostname: 7d3db3a79dc4\n",
      "Decommission Status : Normal\n",
      "Configured Capacity: 25821052928 (24.05 GB)\n",
      "DFS Used: 260713287 (248.64 MB)\n",
      "Non DFS Used: 7644583097 (7.12 GB)\n",
      "DFS Remaining: 17898979328 (16.67 GB)\n",
      "DFS Used%: 1.01%\n",
      "DFS Remaining%: 69.32%\n",
      "Configured Cache Capacity: 0 (0 B)\n",
      "Cache Used: 0 (0 B)\n",
      "Cache Remaining: 0 (0 B)\n",
      "Cache Used%: 100.00%\n",
      "Cache Remaining%: 0.00%\n",
      "Xceivers: 1\n",
      "Last contact: Fri Mar 24 00:52:28 GMT 2023\n",
      "Last Block Report: Fri Mar 24 00:47:55 GMT 2023\n",
      "Num of Blocks: 247\n",
      "\n",
      "\n",
      "Dead datanodes (1):\n",
      "\n",
      "Name: 172.20.0.3:9866 (172.20.0.3)\n",
      "Hostname: 2990d032d772\n",
      "Decommission Status : Normal\n",
      "Configured Capacity: 25821052928 (24.05 GB)\n",
      "DFS Used: 268280117 (255.85 MB)\n",
      "Non DFS Used: 7636983499 (7.11 GB)\n",
      "DFS Remaining: 17899012096 (16.67 GB)\n",
      "DFS Used%: 1.04%\n",
      "DFS Remaining%: 69.32%\n",
      "Configured Cache Capacity: 0 (0 B)\n",
      "Cache Used: 0 (0 B)\n",
      "Cache Remaining: 0 (0 B)\n",
      "Cache Used%: 100.00%\n",
      "Cache Remaining%: 0.00%\n",
      "Xceivers: 1\n",
      "Last contact: Fri Mar 24 00:50:51 GMT 2023\n",
      "Last Block Report: Fri Mar 24 00:34:12 GMT 2023\n",
      "Num of Blocks: 254\n",
      "\n",
      "\n"
     ]
    }
   ],
   "source": [
    "!hdfs dfsadmin -fs hdfs://main:9000/ -report"
   ]
  },
  {
   "cell_type": "code",
   "execution_count": 14,
   "id": "ece117e6-72d1-4aa7-a030-a697d3397345",
   "metadata": {},
   "outputs": [],
   "source": [
    "import io\n",
    "import requests\n",
    "import json\n",
    "\n",
    "class hdfsFile(io.RawIOBase):\n",
    "    def __init__(self, path):\n",
    "        self.path = path\n",
    "        self.offset = 0\n",
    "        self.length = 0\n",
    "        self.block_size = 1048576\n",
    "\n",
    "        url = f'http://main:9870/webhdfs/v1{path}?op=GETFILESTATUS'\n",
    "        response = requests.get(url)\n",
    "        data = response.json()\n",
    "        self.length = data['FileStatus']['length']\n",
    "\n",
    "        self.num_blocks = (self.length + self.block_size - 1) // self.block_size\n",
    "        self.block_offsets = range(0, self.block_size * self.num_blocks, self.block_size)\n",
    "\n",
    "    def readable(self):\n",
    "        return True\n",
    "\n",
    "    def readinto(self, b):\n",
    "        if self.offset >= self.length:\n",
    "            return 0\n",
    "        block_idx = self.offset // self.block_size\n",
    "        block_offset = self.offset % self.block_size\n",
    "        bufferlength = len(b)\n",
    "\n",
    "\n",
    "        url = f'http://main:9870/webhdfs/v1{self.path}'\n",
    "        response = requests.get(url = url, params = {\"op\": \"OPEN\", \"offset\": self.offset, \"length\": bufferlength})\n",
    "        data = response.content\n",
    "        if response.status_code == 200:\n",
    "            b[:len(data)] = data\n",
    "            data_len = len(data)\n",
    "            self.offset += data_len\n",
    "        else:\n",
    "            # Block is missing, insert newline character and move offset to next block\n",
    "            b[:len(b'\\n')] = b'\\n'\n",
    "            data_len = 1\n",
    "            self.offset = (block_idx + 1) * self.block_size\n",
    "\n",
    "        return data_len"
   ]
  },
  {
   "cell_type": "code",
   "execution_count": 17,
   "id": "c3ecf69d-0e68-4ed8-b56b-0b7e99d1fb1d",
   "metadata": {
    "tags": []
   },
   "outputs": [
    {
     "name": "stdout",
     "output_type": "stream",
     "text": [
      "Counts from single.csv (1 MB Buffer)\n",
      "Single Family: 212304\n",
      "Multi Family: 1513\n",
      "\n",
      "Counts from double.csv (1 MB Buffer)\n",
      "Single Family: 444874\n",
      "Multi Family: 2493\n"
     ]
    }
   ],
   "source": [
    "hdfs_file = hdfsFile(\"/single.csv\")\n",
    "\n",
    "single_count = 0\n",
    "multi_count = 0\n",
    "for line in io.BufferedReader(hdfs_file, buffer_size=1048576):\n",
    "    line = str(line, \"utf-8\")\n",
    "    if \"Single Family\" in line:\n",
    "        single_count += 1\n",
    "    elif \"Multifamily\" in line:\n",
    "        multi_count += 1\n",
    "print(\"Counts from single.csv (1 MB Buffer)\")\n",
    "print(f\"Single Family: {single_count}\")\n",
    "print(f\"Multi Family: {multi_count}\")\n",
    "\n",
    "\n",
    "hdfs_file = hdfsFile(\"/double.csv\")\n",
    "\n",
    "single_count = 0\n",
    "multi_count = 0\n",
    "for line in io.BufferedReader(hdfs_file, buffer_size=1048576):\n",
    "    line = str(line, \"utf-8\")\n",
    "    if \"Single Family\" in line:\n",
    "        single_count += 1\n",
    "    elif \"Multifamily\" in line:\n",
    "        multi_count += 1\n",
    "\n",
    "print()\n",
    "print(\"Counts from double.csv (1 MB Buffer)\")\n",
    "print(f\"Single Family: {single_count}\")\n",
    "print(f\"Multi Family: {multi_count}\")"
   ]
  }
 ],
 "metadata": {
  "kernelspec": {
   "display_name": "Python 3 (ipykernel)",
   "language": "python",
   "name": "python3"
  },
  "language_info": {
   "codemirror_mode": {
    "name": "ipython",
    "version": 3
   },
   "file_extension": ".py",
   "mimetype": "text/x-python",
   "name": "python",
   "nbconvert_exporter": "python",
   "pygments_lexer": "ipython3",
   "version": "3.10.6"
  }
 },
 "nbformat": 4,
 "nbformat_minor": 5
}
